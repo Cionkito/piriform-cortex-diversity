{
 "cells": [
  {
   "cell_type": "code",
   "execution_count": 1,
   "metadata": {},
   "outputs": [],
   "source": [
    "import pandas as pd\n",
    "import sys\n",
    "from os import path as op\n",
    "import numpy as np\n",
    "\n",
    "sys.path.append(op.abspath('../code'))\n",
    "import data_loaders as dload"
   ]
  },
  {
   "cell_type": "code",
   "execution_count": 2,
   "metadata": {},
   "outputs": [],
   "source": [
    "dir_path = \"/Users/hugofluhr/Library/CloudStorage/GoogleDrive-hugo.fluhr@gmail.com/My Drive/Piriform_neurons/data/data_xls_v2/\""
   ]
  },
  {
   "cell_type": "code",
   "execution_count": 3,
   "metadata": {},
   "outputs": [],
   "source": [
    "neuron_files = dload.get_neuron_files_in_dir(dir_path)"
   ]
  },
  {
   "cell_type": "code",
   "execution_count": 4,
   "metadata": {},
   "outputs": [
    {
     "name": "stdout",
     "output_type": "stream",
     "text": [
      "There are 103 neurons in the directory\n"
     ]
    }
   ],
   "source": [
    "print('There are {} neurons in the directory'.format(len(neuron_files)))"
   ]
  },
  {
   "cell_type": "code",
   "execution_count": 5,
   "metadata": {},
   "outputs": [],
   "source": [
    "list_of_sheets = []\n",
    "\n",
    "for neuron in neuron_files:\n",
    "    list_of_sheets.append(pd.ExcelFile(neuron).sheet_names)"
   ]
  },
  {
   "cell_type": "code",
   "execution_count": 6,
   "metadata": {},
   "outputs": [],
   "source": [
    "all_features = set().union(*list_of_sheets)"
   ]
  },
  {
   "cell_type": "code",
   "execution_count": 7,
   "metadata": {},
   "outputs": [],
   "source": [
    "all_features_no_nb = [x for x in all_features if not any(c.isdigit() for c in x)]\n",
    "sheets_with_nb = [x for x in all_features if x not in all_features_no_nb]\n",
    "all_features_no_nb.sort()"
   ]
  },
  {
   "cell_type": "code",
   "execution_count": 8,
   "metadata": {},
   "outputs": [],
   "source": [
    "all_features=list(all_features)"
   ]
  },
  {
   "cell_type": "code",
   "execution_count": 9,
   "metadata": {},
   "outputs": [],
   "source": [
    "largest_nb_features = 0\n",
    "smallest_nb_features = np.inf\n",
    "for feats in list_of_sheets:\n",
    "    if len(feats) > largest_nb_features:\n",
    "        largest_nb_features = len(feats)\n",
    "    if len(feats) < smallest_nb_features:\n",
    "        smallest_nb_features = len(feats)\n",
    "    "
   ]
  },
  {
   "cell_type": "code",
   "execution_count": 10,
   "metadata": {},
   "outputs": [
    {
     "data": {
      "text/plain": [
       "202"
      ]
     },
     "execution_count": 10,
     "metadata": {},
     "output_type": "execute_result"
    }
   ],
   "source": [
    "largest_nb_features"
   ]
  },
  {
   "cell_type": "code",
   "execution_count": 11,
   "metadata": {},
   "outputs": [
    {
     "data": {
      "text/plain": [
       "77"
      ]
     },
     "execution_count": 11,
     "metadata": {},
     "output_type": "execute_result"
    }
   ],
   "source": [
    "smallest_nb_features"
   ]
  },
  {
   "cell_type": "code",
   "execution_count": 22,
   "metadata": {},
   "outputs": [],
   "source": [
    "prob_sheets = [x.split('-')[0] for x in sheets_with_nb if 'Ch=' not in x]"
   ]
  },
  {
   "cell_type": "code",
   "execution_count": 23,
   "metadata": {},
   "outputs": [
    {
     "data": {
      "text/plain": [
       "['Pt Time Index Type=Dendrite',\n",
       " 'Filament No. Dendrite Termi',\n",
       " 'Pt Generation Type=Dendrite',\n",
       " 'Soma Center of Image Mass C',\n",
       " 'Segment Center Intensity Me',\n",
       " 'Segment Center Intensity Ma',\n",
       " 'Filament BoundingBoxAA Leng',\n",
       " 'Soma Distance to Image Bord',\n",
       " 'Filament No. Dendrite Branc',\n",
       " 'Filament BoundingBoxOO Leng',\n",
       " 'Soma Center of Homogeneous ',\n",
       " 'Segment Center Number of Vo',\n",
       " 'Soma Center of Homogeneous ',\n",
       " 'Pt Branching Angle Type=Den',\n",
       " 'Soma Center of Homogeneous ',\n",
       " 'Soma Center of Homogeneous ',\n",
       " 'Pt Time Index Type=Dendrite',\n",
       " 'Filament No. Dendrite Branc',\n",
       " 'Pt Distance Type=Dendrite B',\n",
       " 'Soma Center of Homogeneous ',\n",
       " 'Pt Time Index Type=Dendrite',\n",
       " 'Pt Branching Angle Type=Den',\n",
       " 'Filament BoundingBoxOO Leng',\n",
       " 'Segment Intensity StdDev Ch',\n",
       " 'Soma Number of Disconnected',\n",
       " 'Segment Center Intensity St',\n",
       " 'Soma Distance to Image Bord',\n",
       " 'Soma Center of Homogeneous ',\n",
       " 'Pt Diameter Type=Dendrite B',\n",
       " 'Filament No. Dendrite Termi',\n",
       " 'Filament BoundingBoxOO Leng',\n",
       " 'Filament No. Segment Termin',\n",
       " 'Soma Center of Homogeneous ',\n",
       " 'Pt Time Index Type=Dendrite',\n",
       " 'Filament No. Sholl Intersec',\n",
       " 'Soma Intensity Sum of Squar',\n",
       " 'Pt Diameter Type=Dendrite B',\n",
       " 'Pt Distance Type=Dendrite B',\n",
       " 'Pt Time Index Type=Dendrite',\n",
       " 'Pt Diameter Type=Dendrite B',\n",
       " 'Segment Center Intensity Me',\n",
       " 'Pt Time Index Type=Dendrite',\n",
       " 'Pt Time Index Type=Dendrite',\n",
       " 'Pt Distance Type=Dendrite B',\n",
       " 'Filament No. Spine Terminal',\n",
       " 'Soma Center of Homogeneous ',\n",
       " 'Segment Center Intensity Mi',\n",
       " 'Filament No. Segment Branch',\n",
       " 'Pt Time Type=Dendrite Begin',\n",
       " 'Soma Center of Image Mass C',\n",
       " 'Filament BoundingBoxAA Leng',\n",
       " 'Soma Intensity Sum of Squar',\n",
       " 'Soma Number of Voxels Img=1',\n",
       " 'Pt Diameter Type=Dendrite T',\n",
       " 'Pt Generation Type=Dendrite',\n",
       " 'Soma Distance to Image Bord',\n",
       " 'Soma Center of Homogeneous ',\n",
       " 'Pt Generation Type=Dendrite',\n",
       " 'Segment Center Intensity St',\n",
       " 'Pt Distance Type=Dendrite T',\n",
       " 'Pt Time Index Type=Dendrite',\n",
       " 'Soma Center of Homogeneous ',\n",
       " 'Pt Diameter Type=Dendrite T',\n",
       " 'Pt Time Type=Dendrite Begin',\n",
       " 'Pt Branching Angle Type=Den',\n",
       " 'Segment Center Intensity Me',\n",
       " 'Pt Time Index Type=Dendrite',\n",
       " 'Segment Center Intensity Su',\n",
       " 'Pt Distance Type=Dendrite B',\n",
       " 'Soma Center of Image Mass C',\n",
       " 'Filament No. Sholl Intersec',\n",
       " 'Soma Center of Image Mass C',\n",
       " 'Pt Generation Type=Dendrite',\n",
       " 'Pt Time Index Type=Dendrite',\n",
       " 'Pt Time Type=Dendrite Begin',\n",
       " 'Soma Center of Homogeneous ',\n",
       " 'Pt Diameter Type=Dendrite B',\n",
       " 'Pt Diameter Type=Dendrite T',\n",
       " 'Soma Intensity Sum of Squar',\n",
       " 'Segment Center Intensity Su',\n",
       " 'Soma Number of Disconnected',\n",
       " 'Pt Distance Type=Dendrite B',\n",
       " 'Filament BoundingBoxAA Leng',\n",
       " 'Pt Generation Type=Dendrite',\n",
       " 'Pt Generation Type=Dendrite',\n",
       " 'Soma Distance to Image Bord',\n",
       " 'Pt Time Index Type=Dendrite',\n",
       " 'Pt Time Index Type=Dendrite',\n",
       " 'Pt Generation Type=Dendrite',\n",
       " 'Soma Intensity Sum of Squar',\n",
       " 'Filament No. Spine Terminal',\n",
       " 'Soma Intensity Sum of Squar',\n",
       " 'Soma Number of Disconnected',\n",
       " 'Segment Center Number of Vo',\n",
       " 'Soma Center of Homogeneous ',\n",
       " 'Soma Center of Image Mass C',\n",
       " 'Segment Intensity Median Ch',\n",
       " 'Pt Diameter Type=Dendrite T',\n",
       " 'Pt Distance Type=Dendrite T',\n",
       " 'Pt Distance Type=Dendrite T',\n",
       " 'Filament BoundingBoxAA Leng',\n",
       " 'Soma Center of Image Mass C',\n",
       " 'Soma Distance to Image Bord',\n",
       " 'Pt Time Type=Dendrite Begin',\n",
       " 'Segment Intensity Median Ch',\n",
       " 'Soma Center of Homogeneous ',\n",
       " 'Filament BoundingBoxAA Leng',\n",
       " 'Segment Center Intensity Mi',\n",
       " 'Soma Center of Image Mass C',\n",
       " 'Filament BoundingBoxOO Leng',\n",
       " 'Soma Intensity Sum of Squar',\n",
       " 'Soma Intensity Sum of Squar',\n",
       " 'Soma Distance to Image Bord',\n",
       " 'Filament No. Spine Terminal',\n",
       " 'Pt Generation Type=Dendrite',\n",
       " 'Pt Distance Type=Dendrite B',\n",
       " 'Pt Diameter Type=Dendrite T',\n",
       " 'Soma Number of Disconnected',\n",
       " 'Segment Center Intensity Ma',\n",
       " 'Filament BoundingBoxOO Leng',\n",
       " 'Pt Time Type=Dendrite Begin',\n",
       " 'Soma Distance to Image Bord',\n",
       " 'Pt Distance Type=Dendrite B',\n",
       " 'Pt Time Type=Dendrite Begin',\n",
       " 'Segment Intensity StdDev Ch',\n",
       " 'Pt Distance Type=Dendrite T',\n",
       " 'Soma Intensity Sum of Squar',\n",
       " 'Segment Center Intensity Me',\n",
       " 'Soma Distance to Image Bord',\n",
       " 'Soma Center of Homogeneous ',\n",
       " 'Soma Center of Image Mass C',\n",
       " 'Pt Generation Type=Dendrite',\n",
       " 'Pt Generation Type=Dendrite',\n",
       " 'Pt Distance Type=Dendrite T',\n",
       " 'Filament BoundingBoxOO Leng',\n",
       " 'Pt Time Type=Dendrite Begin',\n",
       " 'Pt Distance Type=Dendrite T',\n",
       " 'Filament BoundingBoxAA Leng',\n",
       " 'Pt Generation Type=Dendrite',\n",
       " 'Pt Diameter Type=Dendrite B',\n",
       " 'Pt Time Index Type=Dendrite',\n",
       " 'Filament No. Sholl Intersec',\n",
       " 'Pt Diameter Type=Dendrite B']"
      ]
     },
     "execution_count": 23,
     "metadata": {},
     "output_type": "execute_result"
    }
   ],
   "source": [
    "prob_sheets"
   ]
  },
  {
   "cell_type": "code",
   "execution_count": 26,
   "metadata": {},
   "outputs": [
    {
     "data": {
      "text/plain": [
       "30"
      ]
     },
     "execution_count": 26,
     "metadata": {},
     "output_type": "execute_result"
    }
   ],
   "source": [
    "len(set(prob_sheets))"
   ]
  },
  {
   "cell_type": "code",
   "execution_count": 27,
   "metadata": {},
   "outputs": [
    {
     "data": {
      "text/plain": [
       "143"
      ]
     },
     "execution_count": 27,
     "metadata": {},
     "output_type": "execute_result"
    }
   ],
   "source": [
    "len(prob_sheets)"
   ]
  },
  {
   "cell_type": "code",
   "execution_count": 78,
   "metadata": {},
   "outputs": [],
   "source": [
    "def get_sheets(path_to_xls):\n",
    "    wb = xlrd.open_workbook(neuron)\n",
    "    nb_sheets = len(wb.sheet_names())\n",
    "    feat_names = []\n",
    "    for s in range(nb_sheets):\n",
    "        feat_names.append(wb.sheet_by_index(s).cell(0,0).value)\n",
    "\n",
    "    return feat_names"
   ]
  },
  {
   "cell_type": "code",
   "execution_count": 77,
   "metadata": {},
   "outputs": [],
   "source": [
    "neuron_xl = pd.ExcelFile(neuron)"
   ]
  },
  {
   "cell_type": "code",
   "execution_count": 81,
   "metadata": {},
   "outputs": [
    {
     "data": {
      "text/plain": [
       "146"
      ]
     },
     "execution_count": 81,
     "metadata": {},
     "output_type": "execute_result"
    }
   ],
   "source": [
    "len(neuron_xl.sheet_names)"
   ]
  },
  {
   "cell_type": "code",
   "execution_count": 82,
   "metadata": {},
   "outputs": [
    {
     "data": {
      "text/plain": [
       "146"
      ]
     },
     "execution_count": 82,
     "metadata": {},
     "output_type": "execute_result"
    }
   ],
   "source": [
    "len(get_sheets(neuron))"
   ]
  },
  {
   "cell_type": "code",
   "execution_count": null,
   "metadata": {},
   "outputs": [],
   "source": []
  }
 ],
 "metadata": {
  "kernelspec": {
   "display_name": "piriform-cortex",
   "language": "python",
   "name": "python3"
  },
  "language_info": {
   "codemirror_mode": {
    "name": "ipython",
    "version": 3
   },
   "file_extension": ".py",
   "mimetype": "text/x-python",
   "name": "python",
   "nbconvert_exporter": "python",
   "pygments_lexer": "ipython3",
   "version": "3.9.16"
  },
  "orig_nbformat": 4
 },
 "nbformat": 4,
 "nbformat_minor": 2
}
