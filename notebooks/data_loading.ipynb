{
 "cells": [
  {
   "cell_type": "code",
   "execution_count": 13,
   "metadata": {},
   "outputs": [],
   "source": [
    "import pandas as pd\n",
    "import numpy as np\n",
    "\n",
    "import os.path as op\n",
    "import sys\n",
    "\n",
    "sys.path.append(op.abspath('../code'))\n",
    "\n",
    "import importlib\n",
    "\n",
    "import data_loaders as dload"
   ]
  },
  {
   "cell_type": "code",
   "execution_count": 14,
   "metadata": {},
   "outputs": [
    {
     "name": "stdout",
     "output_type": "stream",
     "text": [
      "Successfully converted data from 64 dendrites (30 features found).\n"
     ]
    },
    {
     "data": {
      "text/plain": [
       "{'Filament BoundingBoxAA Length X': 571.7459716796875,\n",
       " 'Filament BoundingBoxAA Length Y': 487.239013671875,\n",
       " 'Filament BoundingBoxAA Length Z': 83.47730255126953,\n",
       " 'Filament BoundingBoxOO Length A': 83.8156967163086,\n",
       " 'Filament BoundingBoxOO Length B': 514.1090087890625,\n",
       " 'Filament BoundingBoxOO Length C': 599.2890014648438,\n",
       " 'Filament Dendrite Length (sum)': 5181.5498046875,\n",
       " 'Filament Distance from Origin': 1074.219970703125,\n",
       " 'Depth-mean': 4.828125,\n",
       " 'Level-mean': 3.515625,\n",
       " 'Dendrite Area-mean': 600.2704219929874,\n",
       " 'Dendrite Branching Angle-mean': 25.231407878920436,\n",
       " 'Dendrite Branching Angle B-mean': 34.16221151128411,\n",
       " 'Dendrite Length-mean': 80.5488478122279,\n",
       " 'Dendrite Orientation Angle-mean': -44.73761618882418,\n",
       " 'Dendrite Position X_x-mean': 941.6578779220581,\n",
       " 'Dendrite Position Y_x-mean': 484.4188437461853,\n",
       " 'Dendrite Position Z_x-mean': 33.74813103675842,\n",
       " 'Dendrite Straightness-mean': 0.9219231111928821,\n",
       " 'Depth-std': 3.088918686335665,\n",
       " 'Level-std': 1.6231674648808172,\n",
       " 'Dendrite Area-std': 948.6136427557124,\n",
       " 'Dendrite Branching Angle-std': 28.244479095552,\n",
       " 'Dendrite Branching Angle B-std': 29.598841103755344,\n",
       " 'Dendrite Length-std': 81.38881985863236,\n",
       " 'Dendrite Orientation Angle-std': 71.01136918694932,\n",
       " 'Dendrite Position X_x-std': 79.38486436688913,\n",
       " 'Dendrite Position Y_x-std': 59.89429672208469,\n",
       " 'Dendrite Position Z_x-std': 15.577952315747538,\n",
       " 'Dendrite Straightness-std': 0.07521421728377924,\n",
       " 'Depth-min': 0.0,\n",
       " 'Level-min': 1.0,\n",
       " 'Dendrite Area-min': 2.2477500438690186,\n",
       " 'Dendrite Branching Angle-min': 0.0,\n",
       " 'Dendrite Branching Angle B-min': 0.0,\n",
       " 'Dendrite Length-min': 0.7082340121269226,\n",
       " 'Dendrite Orientation Angle-min': -174.63299560546875,\n",
       " 'Dendrite Position X_x-min': 801.802978515625,\n",
       " 'Dendrite Position Y_x-min': 325.5360107421875,\n",
       " 'Dendrite Position Z_x-min': 8.534099578857422,\n",
       " 'Dendrite Straightness-min': 0.6737120151519775,\n",
       " 'Depth-max': 12.0,\n",
       " 'Level-max': 7.0,\n",
       " 'Dendrite Area-max': 4710.97998046875,\n",
       " 'Dendrite Branching Angle-max': 111.51499938964844,\n",
       " 'Dendrite Branching Angle B-max': 127.0770034790039,\n",
       " 'Dendrite Length-max': 368.09698486328125,\n",
       " 'Dendrite Orientation Angle-max': 171.59300231933594,\n",
       " 'Dendrite Position X_x-max': 1152.550048828125,\n",
       " 'Dendrite Position Y_x-max': 608.7459716796875,\n",
       " 'Dendrite Position Z_x-max': 71.08899688720703,\n",
       " 'Dendrite Straightness-max': 1.0,\n",
       " 'dendrites-count': 64,\n",
       " 'Basal-count': 49,\n",
       " 'Apical -count': 15,\n",
       " 'level_1-count': 8}"
      ]
     },
     "execution_count": 14,
     "metadata": {},
     "output_type": "execute_result"
    }
   ],
   "source": [
    "path_to_brainhack = '/Users/AlexCionca/Documents/BrainHack-2023/'\n",
    "path_to_my_neuron = op.join(path_to_brainhack, 'Piriform_neurons/data/brain hack xls/22072c4 - Copy.xls')\n",
    "\n",
    "myneuron = dload.excel_to_neuron(path_to_my_neuron)\n",
    "myneuron_feat = myneuron.get_feature_dict()\n",
    "myneuron_feat"
   ]
  },
  {
   "cell_type": "code",
   "execution_count": null,
   "metadata": {},
   "outputs": [],
   "source": [
    "#myneuron_feat_df = pd.DataFrame(myneuron_feat, index = [0])\n",
    "#\n",
    "#for i in range(25):\n",
    "#    print(my_dendrite_df.shape)\n",
    "#    my_dendrite_df.append(pd.DataFrame(myneuron_feat_df.loc[0].values + np.random.normal(np.zeros(myneuron_feat_df.shape[1]), 1)))"
   ]
  },
  {
   "cell_type": "code",
   "execution_count": null,
   "metadata": {},
   "outputs": [],
   "source": []
  }
 ],
 "metadata": {
  "kernelspec": {
   "display_name": "Python 3.7.6 ('STD')",
   "language": "python",
   "name": "python3"
  },
  "language_info": {
   "codemirror_mode": {
    "name": "ipython",
    "version": 3
   },
   "file_extension": ".py",
   "mimetype": "text/x-python",
   "name": "python",
   "nbconvert_exporter": "python",
   "pygments_lexer": "ipython3",
   "version": "3.7.6"
  },
  "orig_nbformat": 4,
  "vscode": {
   "interpreter": {
    "hash": "17dec2264cf5ef3203d46a2c3f9e1e3abe44e9e112904302f91c75dbc3c6f66c"
   }
  }
 },
 "nbformat": 4,
 "nbformat_minor": 2
}
