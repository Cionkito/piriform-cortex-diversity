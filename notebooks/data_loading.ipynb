{
 "cells": [
  {
   "cell_type": "code",
   "execution_count": null,
   "metadata": {},
   "outputs": [],
   "source": [
    "import pandas as pd\n",
    "import numpy as np\n",
    "\n",
    "import os.path as op\n",
    "import sys\n",
    "\n",
    "sys.path.append(op.abspath('../code'))\n",
    "\n",
    "import importlib\n",
    "\n",
    "import data_loaders as dload\n",
    "import clusterize as cluster"
   ]
  },
  {
   "cell_type": "code",
   "execution_count": null,
   "metadata": {},
   "outputs": [],
   "source": [
    "path_to_brainhack = '/Users/AlexCionca/Documents/BrainHack-2023/'\n",
    "path_to_my_neuron = op.join(path_to_brainhack, 'Piriform_neurons/data/brain hack xls/22072c4 - Copy.xls')\n",
    "\n",
    "myneuron = dload.excel_to_neuron(path_to_my_neuron)\n",
    "myneuron_feat = myneuron.get_feature_dict(group_by_type = True)\n",
    "myneuron_feat"
   ]
  },
  {
   "cell_type": "code",
   "execution_count": null,
   "metadata": {},
   "outputs": [],
   "source": []
  }
 ],
 "metadata": {
  "kernelspec": {
   "display_name": "Python 3.7.6 ('STD')",
   "language": "python",
   "name": "python3"
  },
  "language_info": {
   "codemirror_mode": {
    "name": "ipython",
    "version": 3
   },
   "file_extension": ".py",
   "mimetype": "text/x-python",
   "name": "python",
   "nbconvert_exporter": "python",
   "pygments_lexer": "ipython3",
   "version": "3.7.6"
  },
  "orig_nbformat": 4,
  "vscode": {
   "interpreter": {
    "hash": "17dec2264cf5ef3203d46a2c3f9e1e3abe44e9e112904302f91c75dbc3c6f66c"
   }
  }
 },
 "nbformat": 4,
 "nbformat_minor": 2
}
