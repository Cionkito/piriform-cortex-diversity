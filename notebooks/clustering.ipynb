{
 "cells": [
  {
   "cell_type": "code",
   "execution_count": 1,
   "metadata": {},
   "outputs": [],
   "source": [
    "import pandas as pd\n",
    "import numpy as np\n",
    "\n",
    "import os.path as op\n",
    "import sys\n",
    "\n",
    "sys.path.append(op.abspath('../code'))\n",
    "\n",
    "import plotting_tools\n",
    "\n",
    "import importlib\n",
    "\n",
    "import data_loaders as dload\n",
    "import clusterize as cluster"
   ]
  },
  {
   "cell_type": "code",
   "execution_count": 2,
   "metadata": {
    "scrolled": true
   },
   "outputs": [
    {
     "name": "stderr",
     "output_type": "stream",
     "text": [
      "/Users/hugofluhr/code/piriform-cortex-diversity/code/data_loaders.py:35: FutureWarning: Passing 'suffixes' which cause duplicate columns {'Collection_x'} in the result is deprecated and will raise a MergeError in a future version.\n",
      "  dendrite_df = dendrite_df.merge(feat_df, on = 'ID', how = 'outer')\n"
     ]
    },
    {
     "name": "stdout",
     "output_type": "stream",
     "text": [
      "Successfully converted data from 37 dendrites (30 features found).\n"
     ]
    },
    {
     "name": "stderr",
     "output_type": "stream",
     "text": [
      "/Users/hugofluhr/code/piriform-cortex-diversity/code/data_loaders.py:35: FutureWarning: Passing 'suffixes' which cause duplicate columns {'Collection_x'} in the result is deprecated and will raise a MergeError in a future version.\n",
      "  dendrite_df = dendrite_df.merge(feat_df, on = 'ID', how = 'outer')\n"
     ]
    },
    {
     "name": "stdout",
     "output_type": "stream",
     "text": [
      "Successfully converted data from 37 dendrites (30 features found).\n"
     ]
    },
    {
     "name": "stderr",
     "output_type": "stream",
     "text": [
      "/Users/hugofluhr/code/piriform-cortex-diversity/code/data_loaders.py:35: FutureWarning: Passing 'suffixes' which cause duplicate columns {'Collection_x'} in the result is deprecated and will raise a MergeError in a future version.\n",
      "  dendrite_df = dendrite_df.merge(feat_df, on = 'ID', how = 'outer')\n"
     ]
    },
    {
     "name": "stdout",
     "output_type": "stream",
     "text": [
      "Successfully converted data from 51 dendrites (30 features found).\n"
     ]
    },
    {
     "name": "stderr",
     "output_type": "stream",
     "text": [
      "/Users/hugofluhr/code/piriform-cortex-diversity/code/data_loaders.py:35: FutureWarning: Passing 'suffixes' which cause duplicate columns {'Collection_x'} in the result is deprecated and will raise a MergeError in a future version.\n",
      "  dendrite_df = dendrite_df.merge(feat_df, on = 'ID', how = 'outer')\n"
     ]
    },
    {
     "name": "stdout",
     "output_type": "stream",
     "text": [
      "Successfully converted data from 46 dendrites (30 features found).\n"
     ]
    },
    {
     "name": "stderr",
     "output_type": "stream",
     "text": [
      "/Users/hugofluhr/code/piriform-cortex-diversity/code/data_loaders.py:35: FutureWarning: Passing 'suffixes' which cause duplicate columns {'Collection_x'} in the result is deprecated and will raise a MergeError in a future version.\n",
      "  dendrite_df = dendrite_df.merge(feat_df, on = 'ID', how = 'outer')\n"
     ]
    },
    {
     "name": "stdout",
     "output_type": "stream",
     "text": [
      "Successfully converted data from 66 dendrites (30 features found).\n"
     ]
    },
    {
     "name": "stderr",
     "output_type": "stream",
     "text": [
      "/Users/hugofluhr/code/piriform-cortex-diversity/code/data_loaders.py:35: FutureWarning: Passing 'suffixes' which cause duplicate columns {'Collection_x'} in the result is deprecated and will raise a MergeError in a future version.\n",
      "  dendrite_df = dendrite_df.merge(feat_df, on = 'ID', how = 'outer')\n"
     ]
    },
    {
     "name": "stdout",
     "output_type": "stream",
     "text": [
      "Successfully converted data from 46 dendrites (30 features found).\n"
     ]
    },
    {
     "name": "stderr",
     "output_type": "stream",
     "text": [
      "/Users/hugofluhr/code/piriform-cortex-diversity/code/data_loaders.py:35: FutureWarning: Passing 'suffixes' which cause duplicate columns {'Collection_x'} in the result is deprecated and will raise a MergeError in a future version.\n",
      "  dendrite_df = dendrite_df.merge(feat_df, on = 'ID', how = 'outer')\n"
     ]
    },
    {
     "name": "stdout",
     "output_type": "stream",
     "text": [
      "Successfully converted data from 27 dendrites (30 features found).\n"
     ]
    },
    {
     "name": "stderr",
     "output_type": "stream",
     "text": [
      "/Users/hugofluhr/code/piriform-cortex-diversity/code/data_loaders.py:35: FutureWarning: Passing 'suffixes' which cause duplicate columns {'Collection_x'} in the result is deprecated and will raise a MergeError in a future version.\n",
      "  dendrite_df = dendrite_df.merge(feat_df, on = 'ID', how = 'outer')\n"
     ]
    },
    {
     "name": "stdout",
     "output_type": "stream",
     "text": [
      "Successfully converted data from 33 dendrites (30 features found).\n"
     ]
    },
    {
     "name": "stderr",
     "output_type": "stream",
     "text": [
      "/Users/hugofluhr/code/piriform-cortex-diversity/code/data_loaders.py:35: FutureWarning: Passing 'suffixes' which cause duplicate columns {'Collection_x'} in the result is deprecated and will raise a MergeError in a future version.\n",
      "  dendrite_df = dendrite_df.merge(feat_df, on = 'ID', how = 'outer')\n"
     ]
    },
    {
     "name": "stdout",
     "output_type": "stream",
     "text": [
      "Successfully converted data from 21 dendrites (30 features found).\n"
     ]
    },
    {
     "name": "stderr",
     "output_type": "stream",
     "text": [
      "/Users/hugofluhr/code/piriform-cortex-diversity/code/data_loaders.py:35: FutureWarning: Passing 'suffixes' which cause duplicate columns {'Collection_x'} in the result is deprecated and will raise a MergeError in a future version.\n",
      "  dendrite_df = dendrite_df.merge(feat_df, on = 'ID', how = 'outer')\n"
     ]
    },
    {
     "name": "stdout",
     "output_type": "stream",
     "text": [
      "Successfully converted data from 74 dendrites (30 features found).\n"
     ]
    },
    {
     "name": "stderr",
     "output_type": "stream",
     "text": [
      "/Users/hugofluhr/code/piriform-cortex-diversity/code/data_loaders.py:35: FutureWarning: Passing 'suffixes' which cause duplicate columns {'Collection_x'} in the result is deprecated and will raise a MergeError in a future version.\n",
      "  dendrite_df = dendrite_df.merge(feat_df, on = 'ID', how = 'outer')\n"
     ]
    },
    {
     "name": "stdout",
     "output_type": "stream",
     "text": [
      "Successfully converted data from 23 dendrites (30 features found).\n"
     ]
    },
    {
     "name": "stderr",
     "output_type": "stream",
     "text": [
      "/Users/hugofluhr/code/piriform-cortex-diversity/code/data_loaders.py:35: FutureWarning: Passing 'suffixes' which cause duplicate columns {'Collection_x'} in the result is deprecated and will raise a MergeError in a future version.\n",
      "  dendrite_df = dendrite_df.merge(feat_df, on = 'ID', how = 'outer')\n"
     ]
    },
    {
     "name": "stdout",
     "output_type": "stream",
     "text": [
      "Successfully converted data from 59 dendrites (30 features found).\n"
     ]
    },
    {
     "name": "stderr",
     "output_type": "stream",
     "text": [
      "/Users/hugofluhr/code/piriform-cortex-diversity/code/data_loaders.py:35: FutureWarning: Passing 'suffixes' which cause duplicate columns {'Collection_x'} in the result is deprecated and will raise a MergeError in a future version.\n",
      "  dendrite_df = dendrite_df.merge(feat_df, on = 'ID', how = 'outer')\n"
     ]
    },
    {
     "name": "stdout",
     "output_type": "stream",
     "text": [
      "Successfully converted data from 32 dendrites (30 features found).\n"
     ]
    },
    {
     "name": "stderr",
     "output_type": "stream",
     "text": [
      "/Users/hugofluhr/code/piriform-cortex-diversity/code/data_loaders.py:35: FutureWarning: Passing 'suffixes' which cause duplicate columns {'Collection_x'} in the result is deprecated and will raise a MergeError in a future version.\n",
      "  dendrite_df = dendrite_df.merge(feat_df, on = 'ID', how = 'outer')\n"
     ]
    },
    {
     "name": "stdout",
     "output_type": "stream",
     "text": [
      "Successfully converted data from 87 dendrites (30 features found).\n"
     ]
    },
    {
     "name": "stderr",
     "output_type": "stream",
     "text": [
      "/Users/hugofluhr/code/piriform-cortex-diversity/code/data_loaders.py:35: FutureWarning: Passing 'suffixes' which cause duplicate columns {'Collection_x'} in the result is deprecated and will raise a MergeError in a future version.\n",
      "  dendrite_df = dendrite_df.merge(feat_df, on = 'ID', how = 'outer')\n"
     ]
    },
    {
     "name": "stdout",
     "output_type": "stream",
     "text": [
      "Successfully converted data from 62 dendrites (30 features found).\n"
     ]
    },
    {
     "name": "stderr",
     "output_type": "stream",
     "text": [
      "/Users/hugofluhr/code/piriform-cortex-diversity/code/data_loaders.py:35: FutureWarning: Passing 'suffixes' which cause duplicate columns {'Collection_x'} in the result is deprecated and will raise a MergeError in a future version.\n",
      "  dendrite_df = dendrite_df.merge(feat_df, on = 'ID', how = 'outer')\n"
     ]
    },
    {
     "name": "stdout",
     "output_type": "stream",
     "text": [
      "Successfully converted data from 87 dendrites (30 features found).\n"
     ]
    },
    {
     "name": "stderr",
     "output_type": "stream",
     "text": [
      "/Users/hugofluhr/code/piriform-cortex-diversity/code/data_loaders.py:35: FutureWarning: Passing 'suffixes' which cause duplicate columns {'Collection_x'} in the result is deprecated and will raise a MergeError in a future version.\n",
      "  dendrite_df = dendrite_df.merge(feat_df, on = 'ID', how = 'outer')\n"
     ]
    },
    {
     "name": "stdout",
     "output_type": "stream",
     "text": [
      "Successfully converted data from 64 dendrites (30 features found).\n"
     ]
    },
    {
     "name": "stderr",
     "output_type": "stream",
     "text": [
      "/Users/hugofluhr/code/piriform-cortex-diversity/code/data_loaders.py:35: FutureWarning: Passing 'suffixes' which cause duplicate columns {'Collection_x'} in the result is deprecated and will raise a MergeError in a future version.\n",
      "  dendrite_df = dendrite_df.merge(feat_df, on = 'ID', how = 'outer')\n"
     ]
    },
    {
     "name": "stdout",
     "output_type": "stream",
     "text": [
      "Successfully converted data from 48 dendrites (30 features found).\n"
     ]
    },
    {
     "name": "stderr",
     "output_type": "stream",
     "text": [
      "/Users/hugofluhr/code/piriform-cortex-diversity/code/data_loaders.py:35: FutureWarning: Passing 'suffixes' which cause duplicate columns {'Collection_x'} in the result is deprecated and will raise a MergeError in a future version.\n",
      "  dendrite_df = dendrite_df.merge(feat_df, on = 'ID', how = 'outer')\n"
     ]
    },
    {
     "name": "stdout",
     "output_type": "stream",
     "text": [
      "Successfully converted data from 64 dendrites (30 features found).\n"
     ]
    },
    {
     "name": "stderr",
     "output_type": "stream",
     "text": [
      "/Users/hugofluhr/code/piriform-cortex-diversity/code/data_loaders.py:35: FutureWarning: Passing 'suffixes' which cause duplicate columns {'Collection_x'} in the result is deprecated and will raise a MergeError in a future version.\n",
      "  dendrite_df = dendrite_df.merge(feat_df, on = 'ID', how = 'outer')\n"
     ]
    },
    {
     "name": "stdout",
     "output_type": "stream",
     "text": [
      "Successfully converted data from 34 dendrites (30 features found).\n"
     ]
    },
    {
     "name": "stderr",
     "output_type": "stream",
     "text": [
      "/Users/hugofluhr/code/piriform-cortex-diversity/code/data_loaders.py:35: FutureWarning: Passing 'suffixes' which cause duplicate columns {'Collection_x'} in the result is deprecated and will raise a MergeError in a future version.\n",
      "  dendrite_df = dendrite_df.merge(feat_df, on = 'ID', how = 'outer')\n"
     ]
    },
    {
     "name": "stdout",
     "output_type": "stream",
     "text": [
      "Successfully converted data from 52 dendrites (30 features found).\n"
     ]
    },
    {
     "name": "stderr",
     "output_type": "stream",
     "text": [
      "/Users/hugofluhr/code/piriform-cortex-diversity/code/data_loaders.py:35: FutureWarning: Passing 'suffixes' which cause duplicate columns {'Collection_x'} in the result is deprecated and will raise a MergeError in a future version.\n",
      "  dendrite_df = dendrite_df.merge(feat_df, on = 'ID', how = 'outer')\n"
     ]
    },
    {
     "name": "stdout",
     "output_type": "stream",
     "text": [
      "Successfully converted data from 28 dendrites (30 features found).\n"
     ]
    },
    {
     "name": "stderr",
     "output_type": "stream",
     "text": [
      "/Users/hugofluhr/code/piriform-cortex-diversity/code/data_loaders.py:35: FutureWarning: Passing 'suffixes' which cause duplicate columns {'Collection_x'} in the result is deprecated and will raise a MergeError in a future version.\n",
      "  dendrite_df = dendrite_df.merge(feat_df, on = 'ID', how = 'outer')\n"
     ]
    },
    {
     "name": "stdout",
     "output_type": "stream",
     "text": [
      "Successfully converted data from 144 dendrites (30 features found).\n"
     ]
    },
    {
     "name": "stderr",
     "output_type": "stream",
     "text": [
      "/Users/hugofluhr/code/piriform-cortex-diversity/code/data_loaders.py:35: FutureWarning: Passing 'suffixes' which cause duplicate columns {'Collection_x'} in the result is deprecated and will raise a MergeError in a future version.\n",
      "  dendrite_df = dendrite_df.merge(feat_df, on = 'ID', how = 'outer')\n"
     ]
    },
    {
     "name": "stdout",
     "output_type": "stream",
     "text": [
      "Successfully converted data from 39 dendrites (30 features found).\n"
     ]
    },
    {
     "name": "stderr",
     "output_type": "stream",
     "text": [
      "/Users/hugofluhr/code/piriform-cortex-diversity/code/data_loaders.py:35: FutureWarning: Passing 'suffixes' which cause duplicate columns {'Collection_x'} in the result is deprecated and will raise a MergeError in a future version.\n",
      "  dendrite_df = dendrite_df.merge(feat_df, on = 'ID', how = 'outer')\n"
     ]
    },
    {
     "name": "stdout",
     "output_type": "stream",
     "text": [
      "Successfully converted data from 94 dendrites (30 features found).\n"
     ]
    },
    {
     "name": "stderr",
     "output_type": "stream",
     "text": [
      "/Users/hugofluhr/code/piriform-cortex-diversity/code/data_loaders.py:35: FutureWarning: Passing 'suffixes' which cause duplicate columns {'Collection_x'} in the result is deprecated and will raise a MergeError in a future version.\n",
      "  dendrite_df = dendrite_df.merge(feat_df, on = 'ID', how = 'outer')\n"
     ]
    },
    {
     "name": "stdout",
     "output_type": "stream",
     "text": [
      "Successfully converted data from 298 dendrites (30 features found).\n"
     ]
    },
    {
     "name": "stderr",
     "output_type": "stream",
     "text": [
      "/Users/hugofluhr/code/piriform-cortex-diversity/code/data_loaders.py:35: FutureWarning: Passing 'suffixes' which cause duplicate columns {'Collection_x'} in the result is deprecated and will raise a MergeError in a future version.\n",
      "  dendrite_df = dendrite_df.merge(feat_df, on = 'ID', how = 'outer')\n"
     ]
    },
    {
     "name": "stdout",
     "output_type": "stream",
     "text": [
      "Successfully converted data from 123 dendrites (30 features found).\n"
     ]
    },
    {
     "name": "stderr",
     "output_type": "stream",
     "text": [
      "/Users/hugofluhr/code/piriform-cortex-diversity/code/data_loaders.py:35: FutureWarning: Passing 'suffixes' which cause duplicate columns {'Collection_x'} in the result is deprecated and will raise a MergeError in a future version.\n",
      "  dendrite_df = dendrite_df.merge(feat_df, on = 'ID', how = 'outer')\n"
     ]
    },
    {
     "name": "stdout",
     "output_type": "stream",
     "text": [
      "Successfully converted data from 51 dendrites (30 features found).\n"
     ]
    },
    {
     "name": "stderr",
     "output_type": "stream",
     "text": [
      "/Users/hugofluhr/code/piriform-cortex-diversity/code/data_loaders.py:35: FutureWarning: Passing 'suffixes' which cause duplicate columns {'Collection_x'} in the result is deprecated and will raise a MergeError in a future version.\n",
      "  dendrite_df = dendrite_df.merge(feat_df, on = 'ID', how = 'outer')\n"
     ]
    },
    {
     "name": "stdout",
     "output_type": "stream",
     "text": [
      "Successfully converted data from 26 dendrites (30 features found).\n"
     ]
    },
    {
     "name": "stderr",
     "output_type": "stream",
     "text": [
      "/Users/hugofluhr/code/piriform-cortex-diversity/code/data_loaders.py:35: FutureWarning: Passing 'suffixes' which cause duplicate columns {'Collection_x'} in the result is deprecated and will raise a MergeError in a future version.\n",
      "  dendrite_df = dendrite_df.merge(feat_df, on = 'ID', how = 'outer')\n"
     ]
    },
    {
     "name": "stdout",
     "output_type": "stream",
     "text": [
      "Successfully converted data from 72 dendrites (30 features found).\n"
     ]
    },
    {
     "name": "stderr",
     "output_type": "stream",
     "text": [
      "/Users/hugofluhr/code/piriform-cortex-diversity/code/data_loaders.py:35: FutureWarning: Passing 'suffixes' which cause duplicate columns {'Collection_x'} in the result is deprecated and will raise a MergeError in a future version.\n",
      "  dendrite_df = dendrite_df.merge(feat_df, on = 'ID', how = 'outer')\n"
     ]
    },
    {
     "name": "stdout",
     "output_type": "stream",
     "text": [
      "Successfully converted data from 19 dendrites (30 features found).\n"
     ]
    },
    {
     "name": "stderr",
     "output_type": "stream",
     "text": [
      "/Users/hugofluhr/code/piriform-cortex-diversity/code/data_loaders.py:35: FutureWarning: Passing 'suffixes' which cause duplicate columns {'Collection_x'} in the result is deprecated and will raise a MergeError in a future version.\n",
      "  dendrite_df = dendrite_df.merge(feat_df, on = 'ID', how = 'outer')\n"
     ]
    },
    {
     "name": "stdout",
     "output_type": "stream",
     "text": [
      "Successfully converted data from 32 dendrites (30 features found).\n"
     ]
    },
    {
     "name": "stderr",
     "output_type": "stream",
     "text": [
      "/Users/hugofluhr/code/piriform-cortex-diversity/code/data_loaders.py:35: FutureWarning: Passing 'suffixes' which cause duplicate columns {'Collection_x'} in the result is deprecated and will raise a MergeError in a future version.\n",
      "  dendrite_df = dendrite_df.merge(feat_df, on = 'ID', how = 'outer')\n"
     ]
    },
    {
     "name": "stdout",
     "output_type": "stream",
     "text": [
      "Successfully converted data from 58 dendrites (30 features found).\n"
     ]
    },
    {
     "name": "stderr",
     "output_type": "stream",
     "text": [
      "/Users/hugofluhr/code/piriform-cortex-diversity/code/data_loaders.py:35: FutureWarning: Passing 'suffixes' which cause duplicate columns {'Collection_x'} in the result is deprecated and will raise a MergeError in a future version.\n",
      "  dendrite_df = dendrite_df.merge(feat_df, on = 'ID', how = 'outer')\n"
     ]
    },
    {
     "name": "stdout",
     "output_type": "stream",
     "text": [
      "Successfully converted data from 111 dendrites (30 features found).\n"
     ]
    },
    {
     "name": "stderr",
     "output_type": "stream",
     "text": [
      "/Users/hugofluhr/code/piriform-cortex-diversity/code/data_loaders.py:35: FutureWarning: Passing 'suffixes' which cause duplicate columns {'Collection_x'} in the result is deprecated and will raise a MergeError in a future version.\n",
      "  dendrite_df = dendrite_df.merge(feat_df, on = 'ID', how = 'outer')\n"
     ]
    },
    {
     "name": "stdout",
     "output_type": "stream",
     "text": [
      "Successfully converted data from 237 dendrites (30 features found).\n"
     ]
    },
    {
     "name": "stderr",
     "output_type": "stream",
     "text": [
      "/Users/hugofluhr/code/piriform-cortex-diversity/code/data_loaders.py:35: FutureWarning: Passing 'suffixes' which cause duplicate columns {'Collection_x'} in the result is deprecated and will raise a MergeError in a future version.\n",
      "  dendrite_df = dendrite_df.merge(feat_df, on = 'ID', how = 'outer')\n"
     ]
    },
    {
     "name": "stdout",
     "output_type": "stream",
     "text": [
      "Successfully converted data from 23 dendrites (30 features found).\n"
     ]
    },
    {
     "name": "stderr",
     "output_type": "stream",
     "text": [
      "/Users/hugofluhr/code/piriform-cortex-diversity/code/data_loaders.py:35: FutureWarning: Passing 'suffixes' which cause duplicate columns {'Collection_x'} in the result is deprecated and will raise a MergeError in a future version.\n",
      "  dendrite_df = dendrite_df.merge(feat_df, on = 'ID', how = 'outer')\n"
     ]
    },
    {
     "name": "stdout",
     "output_type": "stream",
     "text": [
      "Successfully converted data from 73 dendrites (30 features found).\n"
     ]
    },
    {
     "name": "stderr",
     "output_type": "stream",
     "text": [
      "/Users/hugofluhr/code/piriform-cortex-diversity/code/data_loaders.py:35: FutureWarning: Passing 'suffixes' which cause duplicate columns {'Collection_x'} in the result is deprecated and will raise a MergeError in a future version.\n",
      "  dendrite_df = dendrite_df.merge(feat_df, on = 'ID', how = 'outer')\n"
     ]
    },
    {
     "name": "stdout",
     "output_type": "stream",
     "text": [
      "Successfully converted data from 33 dendrites (30 features found).\n"
     ]
    },
    {
     "name": "stderr",
     "output_type": "stream",
     "text": [
      "/Users/hugofluhr/code/piriform-cortex-diversity/code/data_loaders.py:35: FutureWarning: Passing 'suffixes' which cause duplicate columns {'Collection_x'} in the result is deprecated and will raise a MergeError in a future version.\n",
      "  dendrite_df = dendrite_df.merge(feat_df, on = 'ID', how = 'outer')\n"
     ]
    },
    {
     "name": "stdout",
     "output_type": "stream",
     "text": [
      "Successfully converted data from 33 dendrites (30 features found).\n"
     ]
    },
    {
     "name": "stderr",
     "output_type": "stream",
     "text": [
      "/Users/hugofluhr/code/piriform-cortex-diversity/code/data_loaders.py:35: FutureWarning: Passing 'suffixes' which cause duplicate columns {'Collection_x'} in the result is deprecated and will raise a MergeError in a future version.\n",
      "  dendrite_df = dendrite_df.merge(feat_df, on = 'ID', how = 'outer')\n"
     ]
    },
    {
     "name": "stdout",
     "output_type": "stream",
     "text": [
      "Successfully converted data from 20 dendrites (30 features found).\n"
     ]
    },
    {
     "name": "stderr",
     "output_type": "stream",
     "text": [
      "/Users/hugofluhr/code/piriform-cortex-diversity/code/data_loaders.py:35: FutureWarning: Passing 'suffixes' which cause duplicate columns {'Collection_x'} in the result is deprecated and will raise a MergeError in a future version.\n",
      "  dendrite_df = dendrite_df.merge(feat_df, on = 'ID', how = 'outer')\n"
     ]
    },
    {
     "name": "stdout",
     "output_type": "stream",
     "text": [
      "Successfully converted data from 30 dendrites (30 features found).\n"
     ]
    },
    {
     "name": "stderr",
     "output_type": "stream",
     "text": [
      "/Users/hugofluhr/code/piriform-cortex-diversity/code/data_loaders.py:35: FutureWarning: Passing 'suffixes' which cause duplicate columns {'Collection_x'} in the result is deprecated and will raise a MergeError in a future version.\n",
      "  dendrite_df = dendrite_df.merge(feat_df, on = 'ID', how = 'outer')\n"
     ]
    },
    {
     "name": "stdout",
     "output_type": "stream",
     "text": [
      "Successfully converted data from 26 dendrites (30 features found).\n"
     ]
    },
    {
     "name": "stderr",
     "output_type": "stream",
     "text": [
      "/Users/hugofluhr/code/piriform-cortex-diversity/code/data_loaders.py:35: FutureWarning: Passing 'suffixes' which cause duplicate columns {'Collection_x'} in the result is deprecated and will raise a MergeError in a future version.\n",
      "  dendrite_df = dendrite_df.merge(feat_df, on = 'ID', how = 'outer')\n"
     ]
    },
    {
     "name": "stdout",
     "output_type": "stream",
     "text": [
      "Successfully converted data from 72 dendrites (30 features found).\n"
     ]
    },
    {
     "name": "stderr",
     "output_type": "stream",
     "text": [
      "/Users/hugofluhr/code/piriform-cortex-diversity/code/data_loaders.py:35: FutureWarning: Passing 'suffixes' which cause duplicate columns {'Collection_x'} in the result is deprecated and will raise a MergeError in a future version.\n",
      "  dendrite_df = dendrite_df.merge(feat_df, on = 'ID', how = 'outer')\n"
     ]
    },
    {
     "name": "stdout",
     "output_type": "stream",
     "text": [
      "Successfully converted data from 51 dendrites (30 features found).\n"
     ]
    },
    {
     "name": "stderr",
     "output_type": "stream",
     "text": [
      "/Users/hugofluhr/code/piriform-cortex-diversity/code/data_loaders.py:35: FutureWarning: Passing 'suffixes' which cause duplicate columns {'Collection_x'} in the result is deprecated and will raise a MergeError in a future version.\n",
      "  dendrite_df = dendrite_df.merge(feat_df, on = 'ID', how = 'outer')\n"
     ]
    },
    {
     "name": "stdout",
     "output_type": "stream",
     "text": [
      "Successfully converted data from 43 dendrites (30 features found).\n"
     ]
    },
    {
     "name": "stderr",
     "output_type": "stream",
     "text": [
      "/Users/hugofluhr/code/piriform-cortex-diversity/code/data_loaders.py:35: FutureWarning: Passing 'suffixes' which cause duplicate columns {'Collection_x'} in the result is deprecated and will raise a MergeError in a future version.\n",
      "  dendrite_df = dendrite_df.merge(feat_df, on = 'ID', how = 'outer')\n"
     ]
    },
    {
     "name": "stdout",
     "output_type": "stream",
     "text": [
      "Successfully converted data from 104 dendrites (30 features found).\n"
     ]
    },
    {
     "name": "stderr",
     "output_type": "stream",
     "text": [
      "/Users/hugofluhr/code/piriform-cortex-diversity/code/data_loaders.py:35: FutureWarning: Passing 'suffixes' which cause duplicate columns {'Collection_x'} in the result is deprecated and will raise a MergeError in a future version.\n",
      "  dendrite_df = dendrite_df.merge(feat_df, on = 'ID', how = 'outer')\n"
     ]
    },
    {
     "name": "stdout",
     "output_type": "stream",
     "text": [
      "Successfully converted data from 32 dendrites (30 features found).\n"
     ]
    },
    {
     "name": "stderr",
     "output_type": "stream",
     "text": [
      "/Users/hugofluhr/code/piriform-cortex-diversity/code/data_loaders.py:35: FutureWarning: Passing 'suffixes' which cause duplicate columns {'Collection_x'} in the result is deprecated and will raise a MergeError in a future version.\n",
      "  dendrite_df = dendrite_df.merge(feat_df, on = 'ID', how = 'outer')\n"
     ]
    },
    {
     "name": "stdout",
     "output_type": "stream",
     "text": [
      "Successfully converted data from 79 dendrites (30 features found).\n"
     ]
    },
    {
     "name": "stderr",
     "output_type": "stream",
     "text": [
      "/Users/hugofluhr/code/piriform-cortex-diversity/code/data_loaders.py:35: FutureWarning: Passing 'suffixes' which cause duplicate columns {'Collection_x'} in the result is deprecated and will raise a MergeError in a future version.\n",
      "  dendrite_df = dendrite_df.merge(feat_df, on = 'ID', how = 'outer')\n"
     ]
    },
    {
     "name": "stdout",
     "output_type": "stream",
     "text": [
      "Successfully converted data from 32 dendrites (30 features found).\n"
     ]
    },
    {
     "name": "stderr",
     "output_type": "stream",
     "text": [
      "/Users/hugofluhr/code/piriform-cortex-diversity/code/data_loaders.py:35: FutureWarning: Passing 'suffixes' which cause duplicate columns {'Collection_x'} in the result is deprecated and will raise a MergeError in a future version.\n",
      "  dendrite_df = dendrite_df.merge(feat_df, on = 'ID', how = 'outer')\n"
     ]
    },
    {
     "name": "stdout",
     "output_type": "stream",
     "text": [
      "Successfully converted data from 45 dendrites (30 features found).\n"
     ]
    },
    {
     "name": "stderr",
     "output_type": "stream",
     "text": [
      "/Users/hugofluhr/code/piriform-cortex-diversity/code/data_loaders.py:35: FutureWarning: Passing 'suffixes' which cause duplicate columns {'Collection_x'} in the result is deprecated and will raise a MergeError in a future version.\n",
      "  dendrite_df = dendrite_df.merge(feat_df, on = 'ID', how = 'outer')\n"
     ]
    },
    {
     "name": "stdout",
     "output_type": "stream",
     "text": [
      "Successfully converted data from 41 dendrites (30 features found).\n"
     ]
    },
    {
     "name": "stderr",
     "output_type": "stream",
     "text": [
      "/Users/hugofluhr/code/piriform-cortex-diversity/code/data_loaders.py:35: FutureWarning: Passing 'suffixes' which cause duplicate columns {'Collection_x'} in the result is deprecated and will raise a MergeError in a future version.\n",
      "  dendrite_df = dendrite_df.merge(feat_df, on = 'ID', how = 'outer')\n"
     ]
    },
    {
     "name": "stdout",
     "output_type": "stream",
     "text": [
      "Successfully converted data from 61 dendrites (30 features found).\n"
     ]
    },
    {
     "name": "stderr",
     "output_type": "stream",
     "text": [
      "/Users/hugofluhr/code/piriform-cortex-diversity/code/data_loaders.py:35: FutureWarning: Passing 'suffixes' which cause duplicate columns {'Collection_x'} in the result is deprecated and will raise a MergeError in a future version.\n",
      "  dendrite_df = dendrite_df.merge(feat_df, on = 'ID', how = 'outer')\n"
     ]
    },
    {
     "name": "stdout",
     "output_type": "stream",
     "text": [
      "Successfully converted data from 87 dendrites (30 features found).\n"
     ]
    },
    {
     "name": "stderr",
     "output_type": "stream",
     "text": [
      "/Users/hugofluhr/code/piriform-cortex-diversity/code/data_loaders.py:35: FutureWarning: Passing 'suffixes' which cause duplicate columns {'Collection_x'} in the result is deprecated and will raise a MergeError in a future version.\n",
      "  dendrite_df = dendrite_df.merge(feat_df, on = 'ID', how = 'outer')\n"
     ]
    },
    {
     "name": "stdout",
     "output_type": "stream",
     "text": [
      "Successfully converted data from 42 dendrites (30 features found).\n"
     ]
    },
    {
     "name": "stderr",
     "output_type": "stream",
     "text": [
      "/Users/hugofluhr/code/piriform-cortex-diversity/code/data_loaders.py:35: FutureWarning: Passing 'suffixes' which cause duplicate columns {'Collection_x'} in the result is deprecated and will raise a MergeError in a future version.\n",
      "  dendrite_df = dendrite_df.merge(feat_df, on = 'ID', how = 'outer')\n"
     ]
    },
    {
     "name": "stdout",
     "output_type": "stream",
     "text": [
      "Successfully converted data from 70 dendrites (30 features found).\n"
     ]
    },
    {
     "name": "stderr",
     "output_type": "stream",
     "text": [
      "/Users/hugofluhr/code/piriform-cortex-diversity/code/data_loaders.py:35: FutureWarning: Passing 'suffixes' which cause duplicate columns {'Collection_x'} in the result is deprecated and will raise a MergeError in a future version.\n",
      "  dendrite_df = dendrite_df.merge(feat_df, on = 'ID', how = 'outer')\n"
     ]
    },
    {
     "name": "stdout",
     "output_type": "stream",
     "text": [
      "Successfully converted data from 36 dendrites (30 features found).\n"
     ]
    },
    {
     "name": "stderr",
     "output_type": "stream",
     "text": [
      "/Users/hugofluhr/code/piriform-cortex-diversity/code/data_loaders.py:35: FutureWarning: Passing 'suffixes' which cause duplicate columns {'Collection_x'} in the result is deprecated and will raise a MergeError in a future version.\n",
      "  dendrite_df = dendrite_df.merge(feat_df, on = 'ID', how = 'outer')\n"
     ]
    },
    {
     "name": "stdout",
     "output_type": "stream",
     "text": [
      "Successfully converted data from 35 dendrites (30 features found).\n"
     ]
    },
    {
     "name": "stderr",
     "output_type": "stream",
     "text": [
      "/Users/hugofluhr/code/piriform-cortex-diversity/code/data_loaders.py:35: FutureWarning: Passing 'suffixes' which cause duplicate columns {'Collection_x'} in the result is deprecated and will raise a MergeError in a future version.\n",
      "  dendrite_df = dendrite_df.merge(feat_df, on = 'ID', how = 'outer')\n"
     ]
    },
    {
     "name": "stdout",
     "output_type": "stream",
     "text": [
      "Successfully converted data from 61 dendrites (30 features found).\n"
     ]
    },
    {
     "name": "stderr",
     "output_type": "stream",
     "text": [
      "/Users/hugofluhr/code/piriform-cortex-diversity/code/data_loaders.py:35: FutureWarning: Passing 'suffixes' which cause duplicate columns {'Collection_x'} in the result is deprecated and will raise a MergeError in a future version.\n",
      "  dendrite_df = dendrite_df.merge(feat_df, on = 'ID', how = 'outer')\n"
     ]
    },
    {
     "name": "stdout",
     "output_type": "stream",
     "text": [
      "Successfully converted data from 98 dendrites (30 features found).\n"
     ]
    },
    {
     "name": "stderr",
     "output_type": "stream",
     "text": [
      "/Users/hugofluhr/code/piriform-cortex-diversity/code/data_loaders.py:35: FutureWarning: Passing 'suffixes' which cause duplicate columns {'Collection_x'} in the result is deprecated and will raise a MergeError in a future version.\n",
      "  dendrite_df = dendrite_df.merge(feat_df, on = 'ID', how = 'outer')\n"
     ]
    },
    {
     "name": "stdout",
     "output_type": "stream",
     "text": [
      "Successfully converted data from 81 dendrites (30 features found).\n"
     ]
    },
    {
     "name": "stderr",
     "output_type": "stream",
     "text": [
      "/Users/hugofluhr/code/piriform-cortex-diversity/code/data_loaders.py:35: FutureWarning: Passing 'suffixes' which cause duplicate columns {'Collection_x'} in the result is deprecated and will raise a MergeError in a future version.\n",
      "  dendrite_df = dendrite_df.merge(feat_df, on = 'ID', how = 'outer')\n"
     ]
    },
    {
     "name": "stdout",
     "output_type": "stream",
     "text": [
      "Successfully converted data from 23 dendrites (30 features found).\n"
     ]
    },
    {
     "name": "stderr",
     "output_type": "stream",
     "text": [
      "/Users/hugofluhr/code/piriform-cortex-diversity/code/data_loaders.py:35: FutureWarning: Passing 'suffixes' which cause duplicate columns {'Collection_x'} in the result is deprecated and will raise a MergeError in a future version.\n",
      "  dendrite_df = dendrite_df.merge(feat_df, on = 'ID', how = 'outer')\n"
     ]
    },
    {
     "name": "stdout",
     "output_type": "stream",
     "text": [
      "Successfully converted data from 40 dendrites (30 features found).\n"
     ]
    },
    {
     "name": "stderr",
     "output_type": "stream",
     "text": [
      "/Users/hugofluhr/code/piriform-cortex-diversity/code/data_loaders.py:35: FutureWarning: Passing 'suffixes' which cause duplicate columns {'Collection_x'} in the result is deprecated and will raise a MergeError in a future version.\n",
      "  dendrite_df = dendrite_df.merge(feat_df, on = 'ID', how = 'outer')\n"
     ]
    },
    {
     "name": "stdout",
     "output_type": "stream",
     "text": [
      "Successfully converted data from 64 dendrites (30 features found).\n"
     ]
    },
    {
     "name": "stderr",
     "output_type": "stream",
     "text": [
      "/Users/hugofluhr/code/piriform-cortex-diversity/code/data_loaders.py:35: FutureWarning: Passing 'suffixes' which cause duplicate columns {'Collection_x'} in the result is deprecated and will raise a MergeError in a future version.\n",
      "  dendrite_df = dendrite_df.merge(feat_df, on = 'ID', how = 'outer')\n"
     ]
    },
    {
     "name": "stdout",
     "output_type": "stream",
     "text": [
      "Successfully converted data from 37 dendrites (30 features found).\n"
     ]
    },
    {
     "name": "stderr",
     "output_type": "stream",
     "text": [
      "/Users/hugofluhr/code/piriform-cortex-diversity/code/data_loaders.py:35: FutureWarning: Passing 'suffixes' which cause duplicate columns {'Collection_x'} in the result is deprecated and will raise a MergeError in a future version.\n",
      "  dendrite_df = dendrite_df.merge(feat_df, on = 'ID', how = 'outer')\n"
     ]
    },
    {
     "name": "stdout",
     "output_type": "stream",
     "text": [
      "Successfully converted data from 35 dendrites (30 features found).\n"
     ]
    },
    {
     "name": "stderr",
     "output_type": "stream",
     "text": [
      "/Users/hugofluhr/code/piriform-cortex-diversity/code/data_loaders.py:35: FutureWarning: Passing 'suffixes' which cause duplicate columns {'Collection_x'} in the result is deprecated and will raise a MergeError in a future version.\n",
      "  dendrite_df = dendrite_df.merge(feat_df, on = 'ID', how = 'outer')\n"
     ]
    },
    {
     "name": "stdout",
     "output_type": "stream",
     "text": [
      "Successfully converted data from 144 dendrites (30 features found).\n"
     ]
    },
    {
     "name": "stderr",
     "output_type": "stream",
     "text": [
      "/Users/hugofluhr/code/piriform-cortex-diversity/code/data_loaders.py:35: FutureWarning: Passing 'suffixes' which cause duplicate columns {'Collection_x'} in the result is deprecated and will raise a MergeError in a future version.\n",
      "  dendrite_df = dendrite_df.merge(feat_df, on = 'ID', how = 'outer')\n"
     ]
    },
    {
     "name": "stdout",
     "output_type": "stream",
     "text": [
      "Successfully converted data from 28 dendrites (30 features found).\n"
     ]
    },
    {
     "name": "stderr",
     "output_type": "stream",
     "text": [
      "/Users/hugofluhr/code/piriform-cortex-diversity/code/data_loaders.py:35: FutureWarning: Passing 'suffixes' which cause duplicate columns {'Collection_x'} in the result is deprecated and will raise a MergeError in a future version.\n",
      "  dendrite_df = dendrite_df.merge(feat_df, on = 'ID', how = 'outer')\n"
     ]
    },
    {
     "name": "stdout",
     "output_type": "stream",
     "text": [
      "Successfully converted data from 36 dendrites (30 features found).\n",
      "Successfully converted data from 52 dendrites (30 features found).\n"
     ]
    },
    {
     "name": "stderr",
     "output_type": "stream",
     "text": [
      "/Users/hugofluhr/code/piriform-cortex-diversity/code/data_loaders.py:35: FutureWarning: Passing 'suffixes' which cause duplicate columns {'Collection_x'} in the result is deprecated and will raise a MergeError in a future version.\n",
      "  dendrite_df = dendrite_df.merge(feat_df, on = 'ID', how = 'outer')\n"
     ]
    },
    {
     "data": {
      "text/html": [
       "<div>\n",
       "<style scoped>\n",
       "    .dataframe tbody tr th:only-of-type {\n",
       "        vertical-align: middle;\n",
       "    }\n",
       "\n",
       "    .dataframe tbody tr th {\n",
       "        vertical-align: top;\n",
       "    }\n",
       "\n",
       "    .dataframe thead th {\n",
       "        text-align: right;\n",
       "    }\n",
       "</style>\n",
       "<table border=\"1\" class=\"dataframe\">\n",
       "  <thead>\n",
       "    <tr style=\"text-align: right;\">\n",
       "      <th></th>\n",
       "      <th>Filament BoundingBoxAA Length X</th>\n",
       "      <th>Filament BoundingBoxAA Length Y</th>\n",
       "      <th>Filament BoundingBoxAA Length Z</th>\n",
       "      <th>Filament BoundingBoxOO Length A</th>\n",
       "      <th>Filament BoundingBoxOO Length B</th>\n",
       "      <th>Filament BoundingBoxOO Length C</th>\n",
       "      <th>Filament Dendrite Length (sum)</th>\n",
       "      <th>Filament Distance from Origin</th>\n",
       "      <th>Depth-Apical-mean</th>\n",
       "      <th>Level-Apical-mean</th>\n",
       "      <th>...</th>\n",
       "      <th>Level-Basal-mean</th>\n",
       "      <th>Dendrite Branching Angle-Basal-mean</th>\n",
       "      <th>Dendrite Branching Angle B-Basal-mean</th>\n",
       "      <th>Dendrite Length-Basal-mean</th>\n",
       "      <th>Dendrite Orientation Angle-Basal-mean</th>\n",
       "      <th>Dendrite Straightness-Basal-mean</th>\n",
       "      <th>dendrites-count</th>\n",
       "      <th>Basal-count</th>\n",
       "      <th>Apical-count</th>\n",
       "      <th>level_1-count</th>\n",
       "    </tr>\n",
       "    <tr>\n",
       "      <th>id</th>\n",
       "      <th></th>\n",
       "      <th></th>\n",
       "      <th></th>\n",
       "      <th></th>\n",
       "      <th></th>\n",
       "      <th></th>\n",
       "      <th></th>\n",
       "      <th></th>\n",
       "      <th></th>\n",
       "      <th></th>\n",
       "      <th></th>\n",
       "      <th></th>\n",
       "      <th></th>\n",
       "      <th></th>\n",
       "      <th></th>\n",
       "      <th></th>\n",
       "      <th></th>\n",
       "      <th></th>\n",
       "      <th></th>\n",
       "      <th></th>\n",
       "      <th></th>\n",
       "    </tr>\n",
       "  </thead>\n",
       "  <tbody>\n",
       "    <tr>\n",
       "      <th>220803c2</th>\n",
       "      <td>397.671997</td>\n",
       "      <td>367.519012</td>\n",
       "      <td>74.598099</td>\n",
       "      <td>78.401199</td>\n",
       "      <td>300.372986</td>\n",
       "      <td>481.835999</td>\n",
       "      <td>3199.409912</td>\n",
       "      <td>588.359009</td>\n",
       "      <td>1.000000</td>\n",
       "      <td>1.500000</td>\n",
       "      <td>...</td>\n",
       "      <td>1.826087</td>\n",
       "      <td>33.507574</td>\n",
       "      <td>25.262470</td>\n",
       "      <td>82.586829</td>\n",
       "      <td>-48.273287</td>\n",
       "      <td>0.929221</td>\n",
       "      <td>37.0</td>\n",
       "      <td>23.0</td>\n",
       "      <td>14.0</td>\n",
       "      <td>18.0</td>\n",
       "    </tr>\n",
       "    <tr>\n",
       "      <th>220728c6</th>\n",
       "      <td>599.765991</td>\n",
       "      <td>406.221008</td>\n",
       "      <td>84.741898</td>\n",
       "      <td>76.656898</td>\n",
       "      <td>250.242004</td>\n",
       "      <td>641.146973</td>\n",
       "      <td>3125.620117</td>\n",
       "      <td>588.575989</td>\n",
       "      <td>2.700000</td>\n",
       "      <td>2.250000</td>\n",
       "      <td>...</td>\n",
       "      <td>1.375000</td>\n",
       "      <td>23.235501</td>\n",
       "      <td>20.388471</td>\n",
       "      <td>63.169632</td>\n",
       "      <td>-8.584363</td>\n",
       "      <td>0.902760</td>\n",
       "      <td>51.0</td>\n",
       "      <td>16.0</td>\n",
       "      <td>20.0</td>\n",
       "      <td>19.0</td>\n",
       "    </tr>\n",
       "    <tr>\n",
       "      <th>220804c2</th>\n",
       "      <td>515.750000</td>\n",
       "      <td>548.078003</td>\n",
       "      <td>41.285400</td>\n",
       "      <td>46.428600</td>\n",
       "      <td>529.473022</td>\n",
       "      <td>526.778992</td>\n",
       "      <td>3914.820068</td>\n",
       "      <td>444.289001</td>\n",
       "      <td>1.714286</td>\n",
       "      <td>1.428571</td>\n",
       "      <td>...</td>\n",
       "      <td>1.375000</td>\n",
       "      <td>36.824632</td>\n",
       "      <td>32.913235</td>\n",
       "      <td>74.645122</td>\n",
       "      <td>-14.950824</td>\n",
       "      <td>0.911412</td>\n",
       "      <td>46.0</td>\n",
       "      <td>16.0</td>\n",
       "      <td>7.0</td>\n",
       "      <td>21.0</td>\n",
       "    </tr>\n",
       "    <tr>\n",
       "      <th>220831c4</th>\n",
       "      <td>232.867996</td>\n",
       "      <td>210.024002</td>\n",
       "      <td>33.973202</td>\n",
       "      <td>31.313101</td>\n",
       "      <td>139.182007</td>\n",
       "      <td>292.226990</td>\n",
       "      <td>1386.290039</td>\n",
       "      <td>434.790985</td>\n",
       "      <td>3.333333</td>\n",
       "      <td>2.809524</td>\n",
       "      <td>...</td>\n",
       "      <td>2.477273</td>\n",
       "      <td>34.713013</td>\n",
       "      <td>45.723158</td>\n",
       "      <td>20.376204</td>\n",
       "      <td>21.603243</td>\n",
       "      <td>0.938812</td>\n",
       "      <td>66.0</td>\n",
       "      <td>44.0</td>\n",
       "      <td>21.0</td>\n",
       "      <td>13.0</td>\n",
       "    </tr>\n",
       "    <tr>\n",
       "      <th>220729c3</th>\n",
       "      <td>460.346008</td>\n",
       "      <td>375.755005</td>\n",
       "      <td>56.962799</td>\n",
       "      <td>63.419399</td>\n",
       "      <td>359.394012</td>\n",
       "      <td>468.649994</td>\n",
       "      <td>4130.500000</td>\n",
       "      <td>625.966003</td>\n",
       "      <td>2.142857</td>\n",
       "      <td>1.714286</td>\n",
       "      <td>...</td>\n",
       "      <td>2.625000</td>\n",
       "      <td>30.743026</td>\n",
       "      <td>23.891336</td>\n",
       "      <td>88.418938</td>\n",
       "      <td>-46.275719</td>\n",
       "      <td>0.915908</td>\n",
       "      <td>46.0</td>\n",
       "      <td>32.0</td>\n",
       "      <td>14.0</td>\n",
       "      <td>12.0</td>\n",
       "    </tr>\n",
       "    <tr>\n",
       "      <th>...</th>\n",
       "      <td>...</td>\n",
       "      <td>...</td>\n",
       "      <td>...</td>\n",
       "      <td>...</td>\n",
       "      <td>...</td>\n",
       "      <td>...</td>\n",
       "      <td>...</td>\n",
       "      <td>...</td>\n",
       "      <td>...</td>\n",
       "      <td>...</td>\n",
       "      <td>...</td>\n",
       "      <td>...</td>\n",
       "      <td>...</td>\n",
       "      <td>...</td>\n",
       "      <td>...</td>\n",
       "      <td>...</td>\n",
       "      <td>...</td>\n",
       "      <td>...</td>\n",
       "      <td>...</td>\n",
       "      <td>...</td>\n",
       "      <td>...</td>\n",
       "    </tr>\n",
       "    <tr>\n",
       "      <th>220802c9</th>\n",
       "      <td>561.872986</td>\n",
       "      <td>546.406006</td>\n",
       "      <td>47.063400</td>\n",
       "      <td>49.915001</td>\n",
       "      <td>577.502991</td>\n",
       "      <td>537.882019</td>\n",
       "      <td>2837.000000</td>\n",
       "      <td>1120.599976</td>\n",
       "      <td>4.206897</td>\n",
       "      <td>2.310345</td>\n",
       "      <td>...</td>\n",
       "      <td>1.200000</td>\n",
       "      <td>16.306020</td>\n",
       "      <td>14.798380</td>\n",
       "      <td>32.718801</td>\n",
       "      <td>-66.440581</td>\n",
       "      <td>0.940670</td>\n",
       "      <td>35.0</td>\n",
       "      <td>5.0</td>\n",
       "      <td>29.0</td>\n",
       "      <td>12.0</td>\n",
       "    </tr>\n",
       "    <tr>\n",
       "      <th>220728c5</th>\n",
       "      <td>18.957300</td>\n",
       "      <td>81.177200</td>\n",
       "      <td>48.012199</td>\n",
       "      <td>7.305410</td>\n",
       "      <td>20.284300</td>\n",
       "      <td>93.685097</td>\n",
       "      <td>115.085999</td>\n",
       "      <td>736.338989</td>\n",
       "      <td>3.675000</td>\n",
       "      <td>2.750000</td>\n",
       "      <td>...</td>\n",
       "      <td>1.681818</td>\n",
       "      <td>16.830166</td>\n",
       "      <td>28.140820</td>\n",
       "      <td>61.109693</td>\n",
       "      <td>-0.822688</td>\n",
       "      <td>0.899236</td>\n",
       "      <td>144.0</td>\n",
       "      <td>38.0</td>\n",
       "      <td>80.0</td>\n",
       "      <td>32.0</td>\n",
       "    </tr>\n",
       "    <tr>\n",
       "      <th>220804c1</th>\n",
       "      <td>219.255997</td>\n",
       "      <td>334.191010</td>\n",
       "      <td>22.972700</td>\n",
       "      <td>21.813299</td>\n",
       "      <td>116.309998</td>\n",
       "      <td>363.174988</td>\n",
       "      <td>1607.780029</td>\n",
       "      <td>544.145020</td>\n",
       "      <td>2.375000</td>\n",
       "      <td>2.562500</td>\n",
       "      <td>...</td>\n",
       "      <td>1.916667</td>\n",
       "      <td>39.687725</td>\n",
       "      <td>40.980310</td>\n",
       "      <td>38.972638</td>\n",
       "      <td>-50.896333</td>\n",
       "      <td>0.884011</td>\n",
       "      <td>28.0</td>\n",
       "      <td>12.0</td>\n",
       "      <td>16.0</td>\n",
       "      <td>9.0</td>\n",
       "    </tr>\n",
       "    <tr>\n",
       "      <th>220802c4-</th>\n",
       "      <td>286.437012</td>\n",
       "      <td>250.186005</td>\n",
       "      <td>43.482101</td>\n",
       "      <td>48.398499</td>\n",
       "      <td>259.766998</td>\n",
       "      <td>314.377014</td>\n",
       "      <td>1849.140015</td>\n",
       "      <td>1264.880005</td>\n",
       "      <td>3.000000</td>\n",
       "      <td>2.281250</td>\n",
       "      <td>...</td>\n",
       "      <td>1.250000</td>\n",
       "      <td>16.587075</td>\n",
       "      <td>25.058524</td>\n",
       "      <td>33.128217</td>\n",
       "      <td>-66.835074</td>\n",
       "      <td>0.981993</td>\n",
       "      <td>36.0</td>\n",
       "      <td>4.0</td>\n",
       "      <td>32.0</td>\n",
       "      <td>11.0</td>\n",
       "    </tr>\n",
       "    <tr>\n",
       "      <th>220802c10</th>\n",
       "      <td>417.576996</td>\n",
       "      <td>497.235992</td>\n",
       "      <td>41.028999</td>\n",
       "      <td>37.994099</td>\n",
       "      <td>402.803009</td>\n",
       "      <td>499.651001</td>\n",
       "      <td>3912.270020</td>\n",
       "      <td>861.495972</td>\n",
       "      <td>3.861111</td>\n",
       "      <td>3.194444</td>\n",
       "      <td>...</td>\n",
       "      <td>1.466667</td>\n",
       "      <td>21.641591</td>\n",
       "      <td>15.630865</td>\n",
       "      <td>77.974145</td>\n",
       "      <td>-86.237372</td>\n",
       "      <td>0.929638</td>\n",
       "      <td>52.0</td>\n",
       "      <td>15.0</td>\n",
       "      <td>36.0</td>\n",
       "      <td>16.0</td>\n",
       "    </tr>\n",
       "  </tbody>\n",
       "</table>\n",
       "<p>68 rows × 26 columns</p>\n",
       "</div>"
      ],
      "text/plain": [
       "           Filament BoundingBoxAA Length X  Filament BoundingBoxAA Length Y  \\\n",
       "id                                                                            \n",
       "220803c2                        397.671997                       367.519012   \n",
       "220728c6                        599.765991                       406.221008   \n",
       "220804c2                        515.750000                       548.078003   \n",
       "220831c4                        232.867996                       210.024002   \n",
       "220729c3                        460.346008                       375.755005   \n",
       "...                                    ...                              ...   \n",
       "220802c9                        561.872986                       546.406006   \n",
       "220728c5                         18.957300                        81.177200   \n",
       "220804c1                        219.255997                       334.191010   \n",
       "220802c4-                       286.437012                       250.186005   \n",
       "220802c10                       417.576996                       497.235992   \n",
       "\n",
       "           Filament BoundingBoxAA Length Z  Filament BoundingBoxOO Length A  \\\n",
       "id                                                                            \n",
       "220803c2                         74.598099                        78.401199   \n",
       "220728c6                         84.741898                        76.656898   \n",
       "220804c2                         41.285400                        46.428600   \n",
       "220831c4                         33.973202                        31.313101   \n",
       "220729c3                         56.962799                        63.419399   \n",
       "...                                    ...                              ...   \n",
       "220802c9                         47.063400                        49.915001   \n",
       "220728c5                         48.012199                         7.305410   \n",
       "220804c1                         22.972700                        21.813299   \n",
       "220802c4-                        43.482101                        48.398499   \n",
       "220802c10                        41.028999                        37.994099   \n",
       "\n",
       "           Filament BoundingBoxOO Length B  Filament BoundingBoxOO Length C  \\\n",
       "id                                                                            \n",
       "220803c2                        300.372986                       481.835999   \n",
       "220728c6                        250.242004                       641.146973   \n",
       "220804c2                        529.473022                       526.778992   \n",
       "220831c4                        139.182007                       292.226990   \n",
       "220729c3                        359.394012                       468.649994   \n",
       "...                                    ...                              ...   \n",
       "220802c9                        577.502991                       537.882019   \n",
       "220728c5                         20.284300                        93.685097   \n",
       "220804c1                        116.309998                       363.174988   \n",
       "220802c4-                       259.766998                       314.377014   \n",
       "220802c10                       402.803009                       499.651001   \n",
       "\n",
       "           Filament Dendrite Length (sum)  Filament Distance from Origin  \\\n",
       "id                                                                         \n",
       "220803c2                      3199.409912                     588.359009   \n",
       "220728c6                      3125.620117                     588.575989   \n",
       "220804c2                      3914.820068                     444.289001   \n",
       "220831c4                      1386.290039                     434.790985   \n",
       "220729c3                      4130.500000                     625.966003   \n",
       "...                                   ...                            ...   \n",
       "220802c9                      2837.000000                    1120.599976   \n",
       "220728c5                       115.085999                     736.338989   \n",
       "220804c1                      1607.780029                     544.145020   \n",
       "220802c4-                     1849.140015                    1264.880005   \n",
       "220802c10                     3912.270020                     861.495972   \n",
       "\n",
       "           Depth-Apical-mean  Level-Apical-mean  ...  Level-Basal-mean  \\\n",
       "id                                               ...                     \n",
       "220803c2            1.000000           1.500000  ...          1.826087   \n",
       "220728c6            2.700000           2.250000  ...          1.375000   \n",
       "220804c2            1.714286           1.428571  ...          1.375000   \n",
       "220831c4            3.333333           2.809524  ...          2.477273   \n",
       "220729c3            2.142857           1.714286  ...          2.625000   \n",
       "...                      ...                ...  ...               ...   \n",
       "220802c9            4.206897           2.310345  ...          1.200000   \n",
       "220728c5            3.675000           2.750000  ...          1.681818   \n",
       "220804c1            2.375000           2.562500  ...          1.916667   \n",
       "220802c4-           3.000000           2.281250  ...          1.250000   \n",
       "220802c10           3.861111           3.194444  ...          1.466667   \n",
       "\n",
       "           Dendrite Branching Angle-Basal-mean  \\\n",
       "id                                               \n",
       "220803c2                             33.507574   \n",
       "220728c6                             23.235501   \n",
       "220804c2                             36.824632   \n",
       "220831c4                             34.713013   \n",
       "220729c3                             30.743026   \n",
       "...                                        ...   \n",
       "220802c9                             16.306020   \n",
       "220728c5                             16.830166   \n",
       "220804c1                             39.687725   \n",
       "220802c4-                            16.587075   \n",
       "220802c10                            21.641591   \n",
       "\n",
       "           Dendrite Branching Angle B-Basal-mean  Dendrite Length-Basal-mean  \\\n",
       "id                                                                             \n",
       "220803c2                               25.262470                   82.586829   \n",
       "220728c6                               20.388471                   63.169632   \n",
       "220804c2                               32.913235                   74.645122   \n",
       "220831c4                               45.723158                   20.376204   \n",
       "220729c3                               23.891336                   88.418938   \n",
       "...                                          ...                         ...   \n",
       "220802c9                               14.798380                   32.718801   \n",
       "220728c5                               28.140820                   61.109693   \n",
       "220804c1                               40.980310                   38.972638   \n",
       "220802c4-                              25.058524                   33.128217   \n",
       "220802c10                              15.630865                   77.974145   \n",
       "\n",
       "           Dendrite Orientation Angle-Basal-mean  \\\n",
       "id                                                 \n",
       "220803c2                              -48.273287   \n",
       "220728c6                               -8.584363   \n",
       "220804c2                              -14.950824   \n",
       "220831c4                               21.603243   \n",
       "220729c3                              -46.275719   \n",
       "...                                          ...   \n",
       "220802c9                              -66.440581   \n",
       "220728c5                               -0.822688   \n",
       "220804c1                              -50.896333   \n",
       "220802c4-                             -66.835074   \n",
       "220802c10                             -86.237372   \n",
       "\n",
       "           Dendrite Straightness-Basal-mean  dendrites-count  Basal-count  \\\n",
       "id                                                                          \n",
       "220803c2                           0.929221             37.0         23.0   \n",
       "220728c6                           0.902760             51.0         16.0   \n",
       "220804c2                           0.911412             46.0         16.0   \n",
       "220831c4                           0.938812             66.0         44.0   \n",
       "220729c3                           0.915908             46.0         32.0   \n",
       "...                                     ...              ...          ...   \n",
       "220802c9                           0.940670             35.0          5.0   \n",
       "220728c5                           0.899236            144.0         38.0   \n",
       "220804c1                           0.884011             28.0         12.0   \n",
       "220802c4-                          0.981993             36.0          4.0   \n",
       "220802c10                          0.929638             52.0         15.0   \n",
       "\n",
       "           Apical-count  level_1-count  \n",
       "id                                      \n",
       "220803c2           14.0           18.0  \n",
       "220728c6           20.0           19.0  \n",
       "220804c2            7.0           21.0  \n",
       "220831c4           21.0           13.0  \n",
       "220729c3           14.0           12.0  \n",
       "...                 ...            ...  \n",
       "220802c9           29.0           12.0  \n",
       "220728c5           80.0           32.0  \n",
       "220804c1           16.0            9.0  \n",
       "220802c4-          32.0           11.0  \n",
       "220802c10          36.0           16.0  \n",
       "\n",
       "[68 rows x 26 columns]"
      ]
     },
     "execution_count": 2,
     "metadata": {},
     "output_type": "execute_result"
    }
   ],
   "source": [
    "path_to_xls = '/Users/hugofluhr/Downloads/Piriform_neurons/data'\n",
    "my_matrix = dload.get_neuron_matrix(path_to_xls)\n",
    "my_matrix"
   ]
  },
  {
   "cell_type": "code",
   "execution_count": 6,
   "metadata": {},
   "outputs": [
    {
     "name": "stdout",
     "output_type": "stream",
     "text": [
      "[28 28 28 28 28 28 28 28 38 38 38 38 38 38 38 38 55 55 55 55]\n"
     ]
    },
    {
     "data": {
      "text/html": [
       "<div>\n",
       "<style scoped>\n",
       "    .dataframe tbody tr th:only-of-type {\n",
       "        vertical-align: middle;\n",
       "    }\n",
       "\n",
       "    .dataframe tbody tr th {\n",
       "        vertical-align: top;\n",
       "    }\n",
       "\n",
       "    .dataframe thead th {\n",
       "        text-align: right;\n",
       "    }\n",
       "</style>\n",
       "<table border=\"1\" class=\"dataframe\">\n",
       "  <thead>\n",
       "    <tr style=\"text-align: right;\">\n",
       "      <th></th>\n",
       "      <th>Filament BoundingBoxAA Length X</th>\n",
       "      <th>Filament BoundingBoxAA Length Y</th>\n",
       "      <th>Filament BoundingBoxAA Length Z</th>\n",
       "      <th>Filament BoundingBoxOO Length A</th>\n",
       "      <th>Filament BoundingBoxOO Length B</th>\n",
       "      <th>Filament BoundingBoxOO Length C</th>\n",
       "      <th>Filament Dendrite Length (sum)</th>\n",
       "      <th>Filament Distance from Origin</th>\n",
       "      <th>Depth-Apical-mean</th>\n",
       "      <th>Level-Apical-mean</th>\n",
       "      <th>...</th>\n",
       "      <th>Level-Basal-mean</th>\n",
       "      <th>Dendrite Branching Angle-Basal-mean</th>\n",
       "      <th>Dendrite Branching Angle B-Basal-mean</th>\n",
       "      <th>Dendrite Length-Basal-mean</th>\n",
       "      <th>Dendrite Orientation Angle-Basal-mean</th>\n",
       "      <th>Dendrite Straightness-Basal-mean</th>\n",
       "      <th>dendrites-count</th>\n",
       "      <th>Basal-count</th>\n",
       "      <th>Apical-count</th>\n",
       "      <th>level_1-count</th>\n",
       "    </tr>\n",
       "    <tr>\n",
       "      <th>id</th>\n",
       "      <th></th>\n",
       "      <th></th>\n",
       "      <th></th>\n",
       "      <th></th>\n",
       "      <th></th>\n",
       "      <th></th>\n",
       "      <th></th>\n",
       "      <th></th>\n",
       "      <th></th>\n",
       "      <th></th>\n",
       "      <th></th>\n",
       "      <th></th>\n",
       "      <th></th>\n",
       "      <th></th>\n",
       "      <th></th>\n",
       "      <th></th>\n",
       "      <th></th>\n",
       "      <th></th>\n",
       "      <th></th>\n",
       "      <th></th>\n",
       "      <th></th>\n",
       "    </tr>\n",
       "  </thead>\n",
       "  <tbody>\n",
       "    <tr>\n",
       "      <th>221005c1</th>\n",
       "      <td>598.138000</td>\n",
       "      <td>626.291016</td>\n",
       "      <td>92.129303</td>\n",
       "      <td>95.135399</td>\n",
       "      <td>599.177979</td>\n",
       "      <td>698.518982</td>\n",
       "      <td>4335.859863</td>\n",
       "      <td>840.005005</td>\n",
       "      <td>2.5</td>\n",
       "      <td>2.666667</td>\n",
       "      <td>...</td>\n",
       "      <td>NaN</td>\n",
       "      <td>NaN</td>\n",
       "      <td>NaN</td>\n",
       "      <td>NaN</td>\n",
       "      <td>NaN</td>\n",
       "      <td>NaN</td>\n",
       "      <td>72.0</td>\n",
       "      <td>NaN</td>\n",
       "      <td>12.0</td>\n",
       "      <td>14.0</td>\n",
       "    </tr>\n",
       "    <tr>\n",
       "      <th>221005c1</th>\n",
       "      <td>598.138000</td>\n",
       "      <td>626.291016</td>\n",
       "      <td>92.129303</td>\n",
       "      <td>95.135399</td>\n",
       "      <td>599.177979</td>\n",
       "      <td>698.518982</td>\n",
       "      <td>4335.859863</td>\n",
       "      <td>840.005005</td>\n",
       "      <td>2.5</td>\n",
       "      <td>2.666667</td>\n",
       "      <td>...</td>\n",
       "      <td>NaN</td>\n",
       "      <td>NaN</td>\n",
       "      <td>NaN</td>\n",
       "      <td>NaN</td>\n",
       "      <td>NaN</td>\n",
       "      <td>NaN</td>\n",
       "      <td>72.0</td>\n",
       "      <td>NaN</td>\n",
       "      <td>12.0</td>\n",
       "      <td>14.0</td>\n",
       "    </tr>\n",
       "    <tr>\n",
       "      <th>221005c1</th>\n",
       "      <td>598.138000</td>\n",
       "      <td>626.291016</td>\n",
       "      <td>92.129303</td>\n",
       "      <td>95.135399</td>\n",
       "      <td>599.177979</td>\n",
       "      <td>698.518982</td>\n",
       "      <td>4335.859863</td>\n",
       "      <td>840.005005</td>\n",
       "      <td>2.5</td>\n",
       "      <td>2.666667</td>\n",
       "      <td>...</td>\n",
       "      <td>NaN</td>\n",
       "      <td>NaN</td>\n",
       "      <td>NaN</td>\n",
       "      <td>NaN</td>\n",
       "      <td>NaN</td>\n",
       "      <td>NaN</td>\n",
       "      <td>72.0</td>\n",
       "      <td>NaN</td>\n",
       "      <td>12.0</td>\n",
       "      <td>14.0</td>\n",
       "    </tr>\n",
       "    <tr>\n",
       "      <th>221005c1</th>\n",
       "      <td>598.138000</td>\n",
       "      <td>626.291016</td>\n",
       "      <td>92.129303</td>\n",
       "      <td>95.135399</td>\n",
       "      <td>599.177979</td>\n",
       "      <td>698.518982</td>\n",
       "      <td>4335.859863</td>\n",
       "      <td>840.005005</td>\n",
       "      <td>2.5</td>\n",
       "      <td>2.666667</td>\n",
       "      <td>...</td>\n",
       "      <td>NaN</td>\n",
       "      <td>NaN</td>\n",
       "      <td>NaN</td>\n",
       "      <td>NaN</td>\n",
       "      <td>NaN</td>\n",
       "      <td>NaN</td>\n",
       "      <td>72.0</td>\n",
       "      <td>NaN</td>\n",
       "      <td>12.0</td>\n",
       "      <td>14.0</td>\n",
       "    </tr>\n",
       "    <tr>\n",
       "      <th>221005c1</th>\n",
       "      <td>598.138000</td>\n",
       "      <td>626.291016</td>\n",
       "      <td>92.129303</td>\n",
       "      <td>95.135399</td>\n",
       "      <td>599.177979</td>\n",
       "      <td>698.518982</td>\n",
       "      <td>4335.859863</td>\n",
       "      <td>840.005005</td>\n",
       "      <td>2.5</td>\n",
       "      <td>2.666667</td>\n",
       "      <td>...</td>\n",
       "      <td>NaN</td>\n",
       "      <td>NaN</td>\n",
       "      <td>NaN</td>\n",
       "      <td>NaN</td>\n",
       "      <td>NaN</td>\n",
       "      <td>NaN</td>\n",
       "      <td>72.0</td>\n",
       "      <td>NaN</td>\n",
       "      <td>12.0</td>\n",
       "      <td>14.0</td>\n",
       "    </tr>\n",
       "    <tr>\n",
       "      <th>221005c1</th>\n",
       "      <td>598.138000</td>\n",
       "      <td>626.291016</td>\n",
       "      <td>92.129303</td>\n",
       "      <td>95.135399</td>\n",
       "      <td>599.177979</td>\n",
       "      <td>698.518982</td>\n",
       "      <td>4335.859863</td>\n",
       "      <td>840.005005</td>\n",
       "      <td>2.5</td>\n",
       "      <td>2.666667</td>\n",
       "      <td>...</td>\n",
       "      <td>NaN</td>\n",
       "      <td>NaN</td>\n",
       "      <td>NaN</td>\n",
       "      <td>NaN</td>\n",
       "      <td>NaN</td>\n",
       "      <td>NaN</td>\n",
       "      <td>72.0</td>\n",
       "      <td>NaN</td>\n",
       "      <td>12.0</td>\n",
       "      <td>14.0</td>\n",
       "    </tr>\n",
       "    <tr>\n",
       "      <th>221005c1</th>\n",
       "      <td>598.138000</td>\n",
       "      <td>626.291016</td>\n",
       "      <td>92.129303</td>\n",
       "      <td>95.135399</td>\n",
       "      <td>599.177979</td>\n",
       "      <td>698.518982</td>\n",
       "      <td>4335.859863</td>\n",
       "      <td>840.005005</td>\n",
       "      <td>2.5</td>\n",
       "      <td>2.666667</td>\n",
       "      <td>...</td>\n",
       "      <td>NaN</td>\n",
       "      <td>NaN</td>\n",
       "      <td>NaN</td>\n",
       "      <td>NaN</td>\n",
       "      <td>NaN</td>\n",
       "      <td>NaN</td>\n",
       "      <td>72.0</td>\n",
       "      <td>NaN</td>\n",
       "      <td>12.0</td>\n",
       "      <td>14.0</td>\n",
       "    </tr>\n",
       "    <tr>\n",
       "      <th>221005c1</th>\n",
       "      <td>598.138000</td>\n",
       "      <td>626.291016</td>\n",
       "      <td>92.129303</td>\n",
       "      <td>95.135399</td>\n",
       "      <td>599.177979</td>\n",
       "      <td>698.518982</td>\n",
       "      <td>4335.859863</td>\n",
       "      <td>840.005005</td>\n",
       "      <td>2.5</td>\n",
       "      <td>2.666667</td>\n",
       "      <td>...</td>\n",
       "      <td>NaN</td>\n",
       "      <td>NaN</td>\n",
       "      <td>NaN</td>\n",
       "      <td>NaN</td>\n",
       "      <td>NaN</td>\n",
       "      <td>NaN</td>\n",
       "      <td>72.0</td>\n",
       "      <td>NaN</td>\n",
       "      <td>12.0</td>\n",
       "      <td>14.0</td>\n",
       "    </tr>\n",
       "    <tr>\n",
       "      <th>220803c5</th>\n",
       "      <td>280.454010</td>\n",
       "      <td>169.817993</td>\n",
       "      <td>59.319901</td>\n",
       "      <td>48.362202</td>\n",
       "      <td>175.466995</td>\n",
       "      <td>277.036011</td>\n",
       "      <td>1014.390015</td>\n",
       "      <td>683.142029</td>\n",
       "      <td>3.3</td>\n",
       "      <td>1.950000</td>\n",
       "      <td>...</td>\n",
       "      <td>NaN</td>\n",
       "      <td>NaN</td>\n",
       "      <td>NaN</td>\n",
       "      <td>NaN</td>\n",
       "      <td>NaN</td>\n",
       "      <td>NaN</td>\n",
       "      <td>20.0</td>\n",
       "      <td>NaN</td>\n",
       "      <td>20.0</td>\n",
       "      <td>8.0</td>\n",
       "    </tr>\n",
       "    <tr>\n",
       "      <th>220803c5</th>\n",
       "      <td>280.454010</td>\n",
       "      <td>169.817993</td>\n",
       "      <td>59.319901</td>\n",
       "      <td>48.362202</td>\n",
       "      <td>175.466995</td>\n",
       "      <td>277.036011</td>\n",
       "      <td>1014.390015</td>\n",
       "      <td>683.142029</td>\n",
       "      <td>3.3</td>\n",
       "      <td>1.950000</td>\n",
       "      <td>...</td>\n",
       "      <td>NaN</td>\n",
       "      <td>NaN</td>\n",
       "      <td>NaN</td>\n",
       "      <td>NaN</td>\n",
       "      <td>NaN</td>\n",
       "      <td>NaN</td>\n",
       "      <td>20.0</td>\n",
       "      <td>NaN</td>\n",
       "      <td>20.0</td>\n",
       "      <td>8.0</td>\n",
       "    </tr>\n",
       "    <tr>\n",
       "      <th>220803c5</th>\n",
       "      <td>280.454010</td>\n",
       "      <td>169.817993</td>\n",
       "      <td>59.319901</td>\n",
       "      <td>48.362202</td>\n",
       "      <td>175.466995</td>\n",
       "      <td>277.036011</td>\n",
       "      <td>1014.390015</td>\n",
       "      <td>683.142029</td>\n",
       "      <td>3.3</td>\n",
       "      <td>1.950000</td>\n",
       "      <td>...</td>\n",
       "      <td>NaN</td>\n",
       "      <td>NaN</td>\n",
       "      <td>NaN</td>\n",
       "      <td>NaN</td>\n",
       "      <td>NaN</td>\n",
       "      <td>NaN</td>\n",
       "      <td>20.0</td>\n",
       "      <td>NaN</td>\n",
       "      <td>20.0</td>\n",
       "      <td>8.0</td>\n",
       "    </tr>\n",
       "    <tr>\n",
       "      <th>220803c5</th>\n",
       "      <td>280.454010</td>\n",
       "      <td>169.817993</td>\n",
       "      <td>59.319901</td>\n",
       "      <td>48.362202</td>\n",
       "      <td>175.466995</td>\n",
       "      <td>277.036011</td>\n",
       "      <td>1014.390015</td>\n",
       "      <td>683.142029</td>\n",
       "      <td>3.3</td>\n",
       "      <td>1.950000</td>\n",
       "      <td>...</td>\n",
       "      <td>NaN</td>\n",
       "      <td>NaN</td>\n",
       "      <td>NaN</td>\n",
       "      <td>NaN</td>\n",
       "      <td>NaN</td>\n",
       "      <td>NaN</td>\n",
       "      <td>20.0</td>\n",
       "      <td>NaN</td>\n",
       "      <td>20.0</td>\n",
       "      <td>8.0</td>\n",
       "    </tr>\n",
       "    <tr>\n",
       "      <th>220803c5</th>\n",
       "      <td>280.454010</td>\n",
       "      <td>169.817993</td>\n",
       "      <td>59.319901</td>\n",
       "      <td>48.362202</td>\n",
       "      <td>175.466995</td>\n",
       "      <td>277.036011</td>\n",
       "      <td>1014.390015</td>\n",
       "      <td>683.142029</td>\n",
       "      <td>3.3</td>\n",
       "      <td>1.950000</td>\n",
       "      <td>...</td>\n",
       "      <td>NaN</td>\n",
       "      <td>NaN</td>\n",
       "      <td>NaN</td>\n",
       "      <td>NaN</td>\n",
       "      <td>NaN</td>\n",
       "      <td>NaN</td>\n",
       "      <td>20.0</td>\n",
       "      <td>NaN</td>\n",
       "      <td>20.0</td>\n",
       "      <td>8.0</td>\n",
       "    </tr>\n",
       "    <tr>\n",
       "      <th>220803c5</th>\n",
       "      <td>280.454010</td>\n",
       "      <td>169.817993</td>\n",
       "      <td>59.319901</td>\n",
       "      <td>48.362202</td>\n",
       "      <td>175.466995</td>\n",
       "      <td>277.036011</td>\n",
       "      <td>1014.390015</td>\n",
       "      <td>683.142029</td>\n",
       "      <td>3.3</td>\n",
       "      <td>1.950000</td>\n",
       "      <td>...</td>\n",
       "      <td>NaN</td>\n",
       "      <td>NaN</td>\n",
       "      <td>NaN</td>\n",
       "      <td>NaN</td>\n",
       "      <td>NaN</td>\n",
       "      <td>NaN</td>\n",
       "      <td>20.0</td>\n",
       "      <td>NaN</td>\n",
       "      <td>20.0</td>\n",
       "      <td>8.0</td>\n",
       "    </tr>\n",
       "    <tr>\n",
       "      <th>220803c5</th>\n",
       "      <td>280.454010</td>\n",
       "      <td>169.817993</td>\n",
       "      <td>59.319901</td>\n",
       "      <td>48.362202</td>\n",
       "      <td>175.466995</td>\n",
       "      <td>277.036011</td>\n",
       "      <td>1014.390015</td>\n",
       "      <td>683.142029</td>\n",
       "      <td>3.3</td>\n",
       "      <td>1.950000</td>\n",
       "      <td>...</td>\n",
       "      <td>NaN</td>\n",
       "      <td>NaN</td>\n",
       "      <td>NaN</td>\n",
       "      <td>NaN</td>\n",
       "      <td>NaN</td>\n",
       "      <td>NaN</td>\n",
       "      <td>20.0</td>\n",
       "      <td>NaN</td>\n",
       "      <td>20.0</td>\n",
       "      <td>8.0</td>\n",
       "    </tr>\n",
       "    <tr>\n",
       "      <th>220803c5</th>\n",
       "      <td>280.454010</td>\n",
       "      <td>169.817993</td>\n",
       "      <td>59.319901</td>\n",
       "      <td>48.362202</td>\n",
       "      <td>175.466995</td>\n",
       "      <td>277.036011</td>\n",
       "      <td>1014.390015</td>\n",
       "      <td>683.142029</td>\n",
       "      <td>3.3</td>\n",
       "      <td>1.950000</td>\n",
       "      <td>...</td>\n",
       "      <td>NaN</td>\n",
       "      <td>NaN</td>\n",
       "      <td>NaN</td>\n",
       "      <td>NaN</td>\n",
       "      <td>NaN</td>\n",
       "      <td>NaN</td>\n",
       "      <td>20.0</td>\n",
       "      <td>NaN</td>\n",
       "      <td>20.0</td>\n",
       "      <td>8.0</td>\n",
       "    </tr>\n",
       "    <tr>\n",
       "      <th>220727c3</th>\n",
       "      <td>639.268005</td>\n",
       "      <td>738.218994</td>\n",
       "      <td>46.506500</td>\n",
       "      <td>47.990799</td>\n",
       "      <td>514.541016</td>\n",
       "      <td>836.244019</td>\n",
       "      <td>3704.750000</td>\n",
       "      <td>733.861023</td>\n",
       "      <td>NaN</td>\n",
       "      <td>NaN</td>\n",
       "      <td>...</td>\n",
       "      <td>2.0</td>\n",
       "      <td>30.587999</td>\n",
       "      <td>27.055125</td>\n",
       "      <td>42.41891</td>\n",
       "      <td>-22.6175</td>\n",
       "      <td>0.93465</td>\n",
       "      <td>35.0</td>\n",
       "      <td>4.0</td>\n",
       "      <td>13.0</td>\n",
       "      <td>4.0</td>\n",
       "    </tr>\n",
       "    <tr>\n",
       "      <th>220727c3</th>\n",
       "      <td>639.268005</td>\n",
       "      <td>738.218994</td>\n",
       "      <td>46.506500</td>\n",
       "      <td>47.990799</td>\n",
       "      <td>514.541016</td>\n",
       "      <td>836.244019</td>\n",
       "      <td>3704.750000</td>\n",
       "      <td>733.861023</td>\n",
       "      <td>NaN</td>\n",
       "      <td>NaN</td>\n",
       "      <td>...</td>\n",
       "      <td>2.0</td>\n",
       "      <td>30.587999</td>\n",
       "      <td>27.055125</td>\n",
       "      <td>42.41891</td>\n",
       "      <td>-22.6175</td>\n",
       "      <td>0.93465</td>\n",
       "      <td>35.0</td>\n",
       "      <td>4.0</td>\n",
       "      <td>13.0</td>\n",
       "      <td>4.0</td>\n",
       "    </tr>\n",
       "    <tr>\n",
       "      <th>220727c3</th>\n",
       "      <td>639.268005</td>\n",
       "      <td>738.218994</td>\n",
       "      <td>46.506500</td>\n",
       "      <td>47.990799</td>\n",
       "      <td>514.541016</td>\n",
       "      <td>836.244019</td>\n",
       "      <td>3704.750000</td>\n",
       "      <td>733.861023</td>\n",
       "      <td>NaN</td>\n",
       "      <td>NaN</td>\n",
       "      <td>...</td>\n",
       "      <td>2.0</td>\n",
       "      <td>30.587999</td>\n",
       "      <td>27.055125</td>\n",
       "      <td>42.41891</td>\n",
       "      <td>-22.6175</td>\n",
       "      <td>0.93465</td>\n",
       "      <td>35.0</td>\n",
       "      <td>4.0</td>\n",
       "      <td>13.0</td>\n",
       "      <td>4.0</td>\n",
       "    </tr>\n",
       "    <tr>\n",
       "      <th>220727c3</th>\n",
       "      <td>639.268005</td>\n",
       "      <td>738.218994</td>\n",
       "      <td>46.506500</td>\n",
       "      <td>47.990799</td>\n",
       "      <td>514.541016</td>\n",
       "      <td>836.244019</td>\n",
       "      <td>3704.750000</td>\n",
       "      <td>733.861023</td>\n",
       "      <td>NaN</td>\n",
       "      <td>NaN</td>\n",
       "      <td>...</td>\n",
       "      <td>2.0</td>\n",
       "      <td>30.587999</td>\n",
       "      <td>27.055125</td>\n",
       "      <td>42.41891</td>\n",
       "      <td>-22.6175</td>\n",
       "      <td>0.93465</td>\n",
       "      <td>35.0</td>\n",
       "      <td>4.0</td>\n",
       "      <td>13.0</td>\n",
       "      <td>4.0</td>\n",
       "    </tr>\n",
       "  </tbody>\n",
       "</table>\n",
       "<p>20 rows × 26 columns</p>\n",
       "</div>"
      ],
      "text/plain": [
       "          Filament BoundingBoxAA Length X  Filament BoundingBoxAA Length Y  \\\n",
       "id                                                                           \n",
       "221005c1                       598.138000                       626.291016   \n",
       "221005c1                       598.138000                       626.291016   \n",
       "221005c1                       598.138000                       626.291016   \n",
       "221005c1                       598.138000                       626.291016   \n",
       "221005c1                       598.138000                       626.291016   \n",
       "221005c1                       598.138000                       626.291016   \n",
       "221005c1                       598.138000                       626.291016   \n",
       "221005c1                       598.138000                       626.291016   \n",
       "220803c5                       280.454010                       169.817993   \n",
       "220803c5                       280.454010                       169.817993   \n",
       "220803c5                       280.454010                       169.817993   \n",
       "220803c5                       280.454010                       169.817993   \n",
       "220803c5                       280.454010                       169.817993   \n",
       "220803c5                       280.454010                       169.817993   \n",
       "220803c5                       280.454010                       169.817993   \n",
       "220803c5                       280.454010                       169.817993   \n",
       "220727c3                       639.268005                       738.218994   \n",
       "220727c3                       639.268005                       738.218994   \n",
       "220727c3                       639.268005                       738.218994   \n",
       "220727c3                       639.268005                       738.218994   \n",
       "\n",
       "          Filament BoundingBoxAA Length Z  Filament BoundingBoxOO Length A  \\\n",
       "id                                                                           \n",
       "221005c1                        92.129303                        95.135399   \n",
       "221005c1                        92.129303                        95.135399   \n",
       "221005c1                        92.129303                        95.135399   \n",
       "221005c1                        92.129303                        95.135399   \n",
       "221005c1                        92.129303                        95.135399   \n",
       "221005c1                        92.129303                        95.135399   \n",
       "221005c1                        92.129303                        95.135399   \n",
       "221005c1                        92.129303                        95.135399   \n",
       "220803c5                        59.319901                        48.362202   \n",
       "220803c5                        59.319901                        48.362202   \n",
       "220803c5                        59.319901                        48.362202   \n",
       "220803c5                        59.319901                        48.362202   \n",
       "220803c5                        59.319901                        48.362202   \n",
       "220803c5                        59.319901                        48.362202   \n",
       "220803c5                        59.319901                        48.362202   \n",
       "220803c5                        59.319901                        48.362202   \n",
       "220727c3                        46.506500                        47.990799   \n",
       "220727c3                        46.506500                        47.990799   \n",
       "220727c3                        46.506500                        47.990799   \n",
       "220727c3                        46.506500                        47.990799   \n",
       "\n",
       "          Filament BoundingBoxOO Length B  Filament BoundingBoxOO Length C  \\\n",
       "id                                                                           \n",
       "221005c1                       599.177979                       698.518982   \n",
       "221005c1                       599.177979                       698.518982   \n",
       "221005c1                       599.177979                       698.518982   \n",
       "221005c1                       599.177979                       698.518982   \n",
       "221005c1                       599.177979                       698.518982   \n",
       "221005c1                       599.177979                       698.518982   \n",
       "221005c1                       599.177979                       698.518982   \n",
       "221005c1                       599.177979                       698.518982   \n",
       "220803c5                       175.466995                       277.036011   \n",
       "220803c5                       175.466995                       277.036011   \n",
       "220803c5                       175.466995                       277.036011   \n",
       "220803c5                       175.466995                       277.036011   \n",
       "220803c5                       175.466995                       277.036011   \n",
       "220803c5                       175.466995                       277.036011   \n",
       "220803c5                       175.466995                       277.036011   \n",
       "220803c5                       175.466995                       277.036011   \n",
       "220727c3                       514.541016                       836.244019   \n",
       "220727c3                       514.541016                       836.244019   \n",
       "220727c3                       514.541016                       836.244019   \n",
       "220727c3                       514.541016                       836.244019   \n",
       "\n",
       "          Filament Dendrite Length (sum)  Filament Distance from Origin  \\\n",
       "id                                                                        \n",
       "221005c1                     4335.859863                     840.005005   \n",
       "221005c1                     4335.859863                     840.005005   \n",
       "221005c1                     4335.859863                     840.005005   \n",
       "221005c1                     4335.859863                     840.005005   \n",
       "221005c1                     4335.859863                     840.005005   \n",
       "221005c1                     4335.859863                     840.005005   \n",
       "221005c1                     4335.859863                     840.005005   \n",
       "221005c1                     4335.859863                     840.005005   \n",
       "220803c5                     1014.390015                     683.142029   \n",
       "220803c5                     1014.390015                     683.142029   \n",
       "220803c5                     1014.390015                     683.142029   \n",
       "220803c5                     1014.390015                     683.142029   \n",
       "220803c5                     1014.390015                     683.142029   \n",
       "220803c5                     1014.390015                     683.142029   \n",
       "220803c5                     1014.390015                     683.142029   \n",
       "220803c5                     1014.390015                     683.142029   \n",
       "220727c3                     3704.750000                     733.861023   \n",
       "220727c3                     3704.750000                     733.861023   \n",
       "220727c3                     3704.750000                     733.861023   \n",
       "220727c3                     3704.750000                     733.861023   \n",
       "\n",
       "          Depth-Apical-mean  Level-Apical-mean  ...  Level-Basal-mean  \\\n",
       "id                                              ...                     \n",
       "221005c1                2.5           2.666667  ...               NaN   \n",
       "221005c1                2.5           2.666667  ...               NaN   \n",
       "221005c1                2.5           2.666667  ...               NaN   \n",
       "221005c1                2.5           2.666667  ...               NaN   \n",
       "221005c1                2.5           2.666667  ...               NaN   \n",
       "221005c1                2.5           2.666667  ...               NaN   \n",
       "221005c1                2.5           2.666667  ...               NaN   \n",
       "221005c1                2.5           2.666667  ...               NaN   \n",
       "220803c5                3.3           1.950000  ...               NaN   \n",
       "220803c5                3.3           1.950000  ...               NaN   \n",
       "220803c5                3.3           1.950000  ...               NaN   \n",
       "220803c5                3.3           1.950000  ...               NaN   \n",
       "220803c5                3.3           1.950000  ...               NaN   \n",
       "220803c5                3.3           1.950000  ...               NaN   \n",
       "220803c5                3.3           1.950000  ...               NaN   \n",
       "220803c5                3.3           1.950000  ...               NaN   \n",
       "220727c3                NaN                NaN  ...               2.0   \n",
       "220727c3                NaN                NaN  ...               2.0   \n",
       "220727c3                NaN                NaN  ...               2.0   \n",
       "220727c3                NaN                NaN  ...               2.0   \n",
       "\n",
       "          Dendrite Branching Angle-Basal-mean  \\\n",
       "id                                              \n",
       "221005c1                                  NaN   \n",
       "221005c1                                  NaN   \n",
       "221005c1                                  NaN   \n",
       "221005c1                                  NaN   \n",
       "221005c1                                  NaN   \n",
       "221005c1                                  NaN   \n",
       "221005c1                                  NaN   \n",
       "221005c1                                  NaN   \n",
       "220803c5                                  NaN   \n",
       "220803c5                                  NaN   \n",
       "220803c5                                  NaN   \n",
       "220803c5                                  NaN   \n",
       "220803c5                                  NaN   \n",
       "220803c5                                  NaN   \n",
       "220803c5                                  NaN   \n",
       "220803c5                                  NaN   \n",
       "220727c3                            30.587999   \n",
       "220727c3                            30.587999   \n",
       "220727c3                            30.587999   \n",
       "220727c3                            30.587999   \n",
       "\n",
       "          Dendrite Branching Angle B-Basal-mean  Dendrite Length-Basal-mean  \\\n",
       "id                                                                            \n",
       "221005c1                                    NaN                         NaN   \n",
       "221005c1                                    NaN                         NaN   \n",
       "221005c1                                    NaN                         NaN   \n",
       "221005c1                                    NaN                         NaN   \n",
       "221005c1                                    NaN                         NaN   \n",
       "221005c1                                    NaN                         NaN   \n",
       "221005c1                                    NaN                         NaN   \n",
       "221005c1                                    NaN                         NaN   \n",
       "220803c5                                    NaN                         NaN   \n",
       "220803c5                                    NaN                         NaN   \n",
       "220803c5                                    NaN                         NaN   \n",
       "220803c5                                    NaN                         NaN   \n",
       "220803c5                                    NaN                         NaN   \n",
       "220803c5                                    NaN                         NaN   \n",
       "220803c5                                    NaN                         NaN   \n",
       "220803c5                                    NaN                         NaN   \n",
       "220727c3                              27.055125                    42.41891   \n",
       "220727c3                              27.055125                    42.41891   \n",
       "220727c3                              27.055125                    42.41891   \n",
       "220727c3                              27.055125                    42.41891   \n",
       "\n",
       "          Dendrite Orientation Angle-Basal-mean  \\\n",
       "id                                                \n",
       "221005c1                                    NaN   \n",
       "221005c1                                    NaN   \n",
       "221005c1                                    NaN   \n",
       "221005c1                                    NaN   \n",
       "221005c1                                    NaN   \n",
       "221005c1                                    NaN   \n",
       "221005c1                                    NaN   \n",
       "221005c1                                    NaN   \n",
       "220803c5                                    NaN   \n",
       "220803c5                                    NaN   \n",
       "220803c5                                    NaN   \n",
       "220803c5                                    NaN   \n",
       "220803c5                                    NaN   \n",
       "220803c5                                    NaN   \n",
       "220803c5                                    NaN   \n",
       "220803c5                                    NaN   \n",
       "220727c3                               -22.6175   \n",
       "220727c3                               -22.6175   \n",
       "220727c3                               -22.6175   \n",
       "220727c3                               -22.6175   \n",
       "\n",
       "          Dendrite Straightness-Basal-mean  dendrites-count  Basal-count  \\\n",
       "id                                                                         \n",
       "221005c1                               NaN             72.0          NaN   \n",
       "221005c1                               NaN             72.0          NaN   \n",
       "221005c1                               NaN             72.0          NaN   \n",
       "221005c1                               NaN             72.0          NaN   \n",
       "221005c1                               NaN             72.0          NaN   \n",
       "221005c1                               NaN             72.0          NaN   \n",
       "221005c1                               NaN             72.0          NaN   \n",
       "221005c1                               NaN             72.0          NaN   \n",
       "220803c5                               NaN             20.0          NaN   \n",
       "220803c5                               NaN             20.0          NaN   \n",
       "220803c5                               NaN             20.0          NaN   \n",
       "220803c5                               NaN             20.0          NaN   \n",
       "220803c5                               NaN             20.0          NaN   \n",
       "220803c5                               NaN             20.0          NaN   \n",
       "220803c5                               NaN             20.0          NaN   \n",
       "220803c5                               NaN             20.0          NaN   \n",
       "220727c3                           0.93465             35.0          4.0   \n",
       "220727c3                           0.93465             35.0          4.0   \n",
       "220727c3                           0.93465             35.0          4.0   \n",
       "220727c3                           0.93465             35.0          4.0   \n",
       "\n",
       "          Apical-count  level_1-count  \n",
       "id                                     \n",
       "221005c1          12.0           14.0  \n",
       "221005c1          12.0           14.0  \n",
       "221005c1          12.0           14.0  \n",
       "221005c1          12.0           14.0  \n",
       "221005c1          12.0           14.0  \n",
       "221005c1          12.0           14.0  \n",
       "221005c1          12.0           14.0  \n",
       "221005c1          12.0           14.0  \n",
       "220803c5          20.0            8.0  \n",
       "220803c5          20.0            8.0  \n",
       "220803c5          20.0            8.0  \n",
       "220803c5          20.0            8.0  \n",
       "220803c5          20.0            8.0  \n",
       "220803c5          20.0            8.0  \n",
       "220803c5          20.0            8.0  \n",
       "220803c5          20.0            8.0  \n",
       "220727c3          13.0            4.0  \n",
       "220727c3          13.0            4.0  \n",
       "220727c3          13.0            4.0  \n",
       "220727c3          13.0            4.0  \n",
       "\n",
       "[20 rows x 26 columns]"
      ]
     },
     "execution_count": 6,
     "metadata": {},
     "output_type": "execute_result"
    }
   ],
   "source": [
    "is_na_idx = np.where(my_matrix.isna())[0]\n",
    "print(is_na_idx)\n",
    "my_matrix.iloc[is_na_idx]"
   ]
  },
  {
   "cell_type": "code",
   "execution_count": 7,
   "metadata": {},
   "outputs": [
    {
     "name": "stdout",
     "output_type": "stream",
     "text": [
      "(65, 23)\n"
     ]
    },
    {
     "data": {
      "text/html": [
       "<div>\n",
       "<style scoped>\n",
       "    .dataframe tbody tr th:only-of-type {\n",
       "        vertical-align: middle;\n",
       "    }\n",
       "\n",
       "    .dataframe tbody tr th {\n",
       "        vertical-align: top;\n",
       "    }\n",
       "\n",
       "    .dataframe thead th {\n",
       "        text-align: right;\n",
       "    }\n",
       "</style>\n",
       "<table border=\"1\" class=\"dataframe\">\n",
       "  <thead>\n",
       "    <tr style=\"text-align: right;\">\n",
       "      <th></th>\n",
       "      <th>Filament BoundingBoxOO Length A</th>\n",
       "      <th>Filament BoundingBoxOO Length B</th>\n",
       "      <th>Filament BoundingBoxOO Length C</th>\n",
       "      <th>Filament Dendrite Length (sum)</th>\n",
       "      <th>Filament Distance from Origin</th>\n",
       "      <th>Depth-Apical-mean</th>\n",
       "      <th>Level-Apical-mean</th>\n",
       "      <th>Dendrite Branching Angle-Apical-mean</th>\n",
       "      <th>Dendrite Branching Angle B-Apical-mean</th>\n",
       "      <th>Dendrite Length-Apical-mean</th>\n",
       "      <th>...</th>\n",
       "      <th>Level-Basal-mean</th>\n",
       "      <th>Dendrite Branching Angle-Basal-mean</th>\n",
       "      <th>Dendrite Branching Angle B-Basal-mean</th>\n",
       "      <th>Dendrite Length-Basal-mean</th>\n",
       "      <th>Dendrite Orientation Angle-Basal-mean</th>\n",
       "      <th>Dendrite Straightness-Basal-mean</th>\n",
       "      <th>dendrites-count</th>\n",
       "      <th>Basal-count</th>\n",
       "      <th>Apical-count</th>\n",
       "      <th>level_1-count</th>\n",
       "    </tr>\n",
       "    <tr>\n",
       "      <th>id</th>\n",
       "      <th></th>\n",
       "      <th></th>\n",
       "      <th></th>\n",
       "      <th></th>\n",
       "      <th></th>\n",
       "      <th></th>\n",
       "      <th></th>\n",
       "      <th></th>\n",
       "      <th></th>\n",
       "      <th></th>\n",
       "      <th></th>\n",
       "      <th></th>\n",
       "      <th></th>\n",
       "      <th></th>\n",
       "      <th></th>\n",
       "      <th></th>\n",
       "      <th></th>\n",
       "      <th></th>\n",
       "      <th></th>\n",
       "      <th></th>\n",
       "      <th></th>\n",
       "    </tr>\n",
       "  </thead>\n",
       "  <tbody>\n",
       "    <tr>\n",
       "      <th>220803c2</th>\n",
       "      <td>1.046957</td>\n",
       "      <td>-0.157664</td>\n",
       "      <td>-0.127838</td>\n",
       "      <td>-0.043211</td>\n",
       "      <td>-0.679552</td>\n",
       "      <td>-1.176441</td>\n",
       "      <td>-1.062344</td>\n",
       "      <td>-0.527270</td>\n",
       "      <td>-1.156670</td>\n",
       "      <td>1.760207</td>\n",
       "      <td>...</td>\n",
       "      <td>-0.149285</td>\n",
       "      <td>0.795178</td>\n",
       "      <td>0.065493</td>\n",
       "      <td>0.670288</td>\n",
       "      <td>-0.073439</td>\n",
       "      <td>0.566016</td>\n",
       "      <td>-0.515663</td>\n",
       "      <td>-0.094490</td>\n",
       "      <td>-0.667321</td>\n",
       "      <td>0.474851</td>\n",
       "    </tr>\n",
       "    <tr>\n",
       "      <th>220728c6</th>\n",
       "      <td>0.972651</td>\n",
       "      <td>-0.493095</td>\n",
       "      <td>0.643825</td>\n",
       "      <td>-0.078762</td>\n",
       "      <td>-0.678532</td>\n",
       "      <td>-0.086585</td>\n",
       "      <td>-0.071150</td>\n",
       "      <td>-0.045484</td>\n",
       "      <td>-0.699440</td>\n",
       "      <td>0.497389</td>\n",
       "      <td>...</td>\n",
       "      <td>-0.818476</td>\n",
       "      <td>-0.214589</td>\n",
       "      <td>-0.334045</td>\n",
       "      <td>-0.054428</td>\n",
       "      <td>0.682635</td>\n",
       "      <td>-0.178700</td>\n",
       "      <td>-0.218667</td>\n",
       "      <td>-0.390991</td>\n",
       "      <td>-0.361138</td>\n",
       "      <td>0.626152</td>\n",
       "    </tr>\n",
       "    <tr>\n",
       "      <th>220804c2</th>\n",
       "      <td>-0.315055</td>\n",
       "      <td>1.375265</td>\n",
       "      <td>0.089855</td>\n",
       "      <td>0.301461</td>\n",
       "      <td>-1.356344</td>\n",
       "      <td>-0.718518</td>\n",
       "      <td>-1.156743</td>\n",
       "      <td>-0.145711</td>\n",
       "      <td>1.157574</td>\n",
       "      <td>1.162727</td>\n",
       "      <td>...</td>\n",
       "      <td>-0.818476</td>\n",
       "      <td>1.121252</td>\n",
       "      <td>0.692651</td>\n",
       "      <td>0.373877</td>\n",
       "      <td>0.561354</td>\n",
       "      <td>0.064805</td>\n",
       "      <td>-0.324737</td>\n",
       "      <td>-0.390991</td>\n",
       "      <td>-1.024533</td>\n",
       "      <td>0.928753</td>\n",
       "    </tr>\n",
       "    <tr>\n",
       "      <th>220831c4</th>\n",
       "      <td>-0.958965</td>\n",
       "      <td>-1.236208</td>\n",
       "      <td>-1.046257</td>\n",
       "      <td>-0.916740</td>\n",
       "      <td>-1.400962</td>\n",
       "      <td>0.319440</td>\n",
       "      <td>0.668312</td>\n",
       "      <td>0.619731</td>\n",
       "      <td>2.151415</td>\n",
       "      <td>-2.048692</td>\n",
       "      <td>...</td>\n",
       "      <td>0.816752</td>\n",
       "      <td>0.913675</td>\n",
       "      <td>1.742722</td>\n",
       "      <td>-1.651625</td>\n",
       "      <td>1.257708</td>\n",
       "      <td>0.835960</td>\n",
       "      <td>0.099543</td>\n",
       "      <td>0.795015</td>\n",
       "      <td>-0.310108</td>\n",
       "      <td>-0.281652</td>\n",
       "    </tr>\n",
       "    <tr>\n",
       "      <th>220729c3</th>\n",
       "      <td>0.408742</td>\n",
       "      <td>0.237251</td>\n",
       "      <td>-0.191708</td>\n",
       "      <td>0.405371</td>\n",
       "      <td>-0.502887</td>\n",
       "      <td>-0.443764</td>\n",
       "      <td>-0.779145</td>\n",
       "      <td>0.525485</td>\n",
       "      <td>0.130924</td>\n",
       "      <td>1.764829</td>\n",
       "      <td>...</td>\n",
       "      <td>1.035907</td>\n",
       "      <td>0.523417</td>\n",
       "      <td>-0.046903</td>\n",
       "      <td>0.887963</td>\n",
       "      <td>-0.035385</td>\n",
       "      <td>0.191340</td>\n",
       "      <td>-0.324737</td>\n",
       "      <td>0.286727</td>\n",
       "      <td>-0.667321</td>\n",
       "      <td>-0.432952</td>\n",
       "    </tr>\n",
       "    <tr>\n",
       "      <th>...</th>\n",
       "      <td>...</td>\n",
       "      <td>...</td>\n",
       "      <td>...</td>\n",
       "      <td>...</td>\n",
       "      <td>...</td>\n",
       "      <td>...</td>\n",
       "      <td>...</td>\n",
       "      <td>...</td>\n",
       "      <td>...</td>\n",
       "      <td>...</td>\n",
       "      <td>...</td>\n",
       "      <td>...</td>\n",
       "      <td>...</td>\n",
       "      <td>...</td>\n",
       "      <td>...</td>\n",
       "      <td>...</td>\n",
       "      <td>...</td>\n",
       "      <td>...</td>\n",
       "      <td>...</td>\n",
       "      <td>...</td>\n",
       "      <td>...</td>\n",
       "    </tr>\n",
       "    <tr>\n",
       "      <th>220802c9</th>\n",
       "      <td>-0.166537</td>\n",
       "      <td>1.696638</td>\n",
       "      <td>0.143635</td>\n",
       "      <td>-0.217814</td>\n",
       "      <td>1.820737</td>\n",
       "      <td>0.879474</td>\n",
       "      <td>0.008601</td>\n",
       "      <td>0.628539</td>\n",
       "      <td>0.818158</td>\n",
       "      <td>1.721922</td>\n",
       "      <td>...</td>\n",
       "      <td>-1.078089</td>\n",
       "      <td>-0.895772</td>\n",
       "      <td>-0.792283</td>\n",
       "      <td>-1.190957</td>\n",
       "      <td>-0.419526</td>\n",
       "      <td>0.888262</td>\n",
       "      <td>-0.558091</td>\n",
       "      <td>-0.856922</td>\n",
       "      <td>0.098135</td>\n",
       "      <td>-0.432952</td>\n",
       "    </tr>\n",
       "    <tr>\n",
       "      <th>220728c5</th>\n",
       "      <td>-1.981677</td>\n",
       "      <td>-2.031763</td>\n",
       "      <td>-2.007945</td>\n",
       "      <td>-1.529184</td>\n",
       "      <td>0.015608</td>\n",
       "      <td>0.538480</td>\n",
       "      <td>0.589646</td>\n",
       "      <td>-0.429108</td>\n",
       "      <td>0.131125</td>\n",
       "      <td>0.300169</td>\n",
       "      <td>...</td>\n",
       "      <td>-0.363309</td>\n",
       "      <td>-0.844247</td>\n",
       "      <td>0.301441</td>\n",
       "      <td>-0.131312</td>\n",
       "      <td>0.830494</td>\n",
       "      <td>-0.277890</td>\n",
       "      <td>1.754233</td>\n",
       "      <td>0.540871</td>\n",
       "      <td>2.700686</td>\n",
       "      <td>2.593059</td>\n",
       "    </tr>\n",
       "    <tr>\n",
       "      <th>220804c1</th>\n",
       "      <td>-1.363651</td>\n",
       "      <td>-1.389247</td>\n",
       "      <td>-0.702603</td>\n",
       "      <td>-0.810031</td>\n",
       "      <td>-0.887254</td>\n",
       "      <td>-0.294940</td>\n",
       "      <td>0.341847</td>\n",
       "      <td>1.249260</td>\n",
       "      <td>-0.210181</td>\n",
       "      <td>0.555046</td>\n",
       "      <td>...</td>\n",
       "      <td>-0.014910</td>\n",
       "      <td>1.402700</td>\n",
       "      <td>1.353935</td>\n",
       "      <td>-0.957542</td>\n",
       "      <td>-0.123408</td>\n",
       "      <td>-0.706395</td>\n",
       "      <td>-0.706589</td>\n",
       "      <td>-0.560421</td>\n",
       "      <td>-0.565260</td>\n",
       "      <td>-0.886854</td>\n",
       "    </tr>\n",
       "    <tr>\n",
       "      <th>220802c4-</th>\n",
       "      <td>-0.231139</td>\n",
       "      <td>-0.429363</td>\n",
       "      <td>-0.938968</td>\n",
       "      <td>-0.693748</td>\n",
       "      <td>2.498515</td>\n",
       "      <td>0.105743</td>\n",
       "      <td>-0.029850</td>\n",
       "      <td>0.701888</td>\n",
       "      <td>1.098464</td>\n",
       "      <td>-0.386965</td>\n",
       "      <td>...</td>\n",
       "      <td>-1.003914</td>\n",
       "      <td>-0.868144</td>\n",
       "      <td>0.048775</td>\n",
       "      <td>-1.175676</td>\n",
       "      <td>-0.427041</td>\n",
       "      <td>2.051261</td>\n",
       "      <td>-0.536877</td>\n",
       "      <td>-0.899280</td>\n",
       "      <td>0.251227</td>\n",
       "      <td>-0.584253</td>\n",
       "    </tr>\n",
       "    <tr>\n",
       "      <th>220802c10</th>\n",
       "      <td>-0.674359</td>\n",
       "      <td>0.527704</td>\n",
       "      <td>-0.041546</td>\n",
       "      <td>0.300232</td>\n",
       "      <td>0.603553</td>\n",
       "      <td>0.657794</td>\n",
       "      <td>1.177020</td>\n",
       "      <td>0.059765</td>\n",
       "      <td>-0.528940</td>\n",
       "      <td>0.845565</td>\n",
       "      <td>...</td>\n",
       "      <td>-0.682488</td>\n",
       "      <td>-0.371274</td>\n",
       "      <td>-0.724041</td>\n",
       "      <td>0.498127</td>\n",
       "      <td>-0.796654</td>\n",
       "      <td>0.577749</td>\n",
       "      <td>-0.197453</td>\n",
       "      <td>-0.433349</td>\n",
       "      <td>0.455348</td>\n",
       "      <td>0.172250</td>\n",
       "    </tr>\n",
       "  </tbody>\n",
       "</table>\n",
       "<p>65 rows × 23 columns</p>\n",
       "</div>"
      ],
      "text/plain": [
       "           Filament BoundingBoxOO Length A  Filament BoundingBoxOO Length B  \\\n",
       "id                                                                            \n",
       "220803c2                          1.046957                        -0.157664   \n",
       "220728c6                          0.972651                        -0.493095   \n",
       "220804c2                         -0.315055                         1.375265   \n",
       "220831c4                         -0.958965                        -1.236208   \n",
       "220729c3                          0.408742                         0.237251   \n",
       "...                                    ...                              ...   \n",
       "220802c9                         -0.166537                         1.696638   \n",
       "220728c5                         -1.981677                        -2.031763   \n",
       "220804c1                         -1.363651                        -1.389247   \n",
       "220802c4-                        -0.231139                        -0.429363   \n",
       "220802c10                        -0.674359                         0.527704   \n",
       "\n",
       "           Filament BoundingBoxOO Length C  Filament Dendrite Length (sum)  \\\n",
       "id                                                                           \n",
       "220803c2                         -0.127838                       -0.043211   \n",
       "220728c6                          0.643825                       -0.078762   \n",
       "220804c2                          0.089855                        0.301461   \n",
       "220831c4                         -1.046257                       -0.916740   \n",
       "220729c3                         -0.191708                        0.405371   \n",
       "...                                    ...                             ...   \n",
       "220802c9                          0.143635                       -0.217814   \n",
       "220728c5                         -2.007945                       -1.529184   \n",
       "220804c1                         -0.702603                       -0.810031   \n",
       "220802c4-                        -0.938968                       -0.693748   \n",
       "220802c10                        -0.041546                        0.300232   \n",
       "\n",
       "           Filament Distance from Origin  Depth-Apical-mean  \\\n",
       "id                                                            \n",
       "220803c2                       -0.679552          -1.176441   \n",
       "220728c6                       -0.678532          -0.086585   \n",
       "220804c2                       -1.356344          -0.718518   \n",
       "220831c4                       -1.400962           0.319440   \n",
       "220729c3                       -0.502887          -0.443764   \n",
       "...                                  ...                ...   \n",
       "220802c9                        1.820737           0.879474   \n",
       "220728c5                        0.015608           0.538480   \n",
       "220804c1                       -0.887254          -0.294940   \n",
       "220802c4-                       2.498515           0.105743   \n",
       "220802c10                       0.603553           0.657794   \n",
       "\n",
       "           Level-Apical-mean  Dendrite Branching Angle-Apical-mean  \\\n",
       "id                                                                   \n",
       "220803c2           -1.062344                             -0.527270   \n",
       "220728c6           -0.071150                             -0.045484   \n",
       "220804c2           -1.156743                             -0.145711   \n",
       "220831c4            0.668312                              0.619731   \n",
       "220729c3           -0.779145                              0.525485   \n",
       "...                      ...                                   ...   \n",
       "220802c9            0.008601                              0.628539   \n",
       "220728c5            0.589646                             -0.429108   \n",
       "220804c1            0.341847                              1.249260   \n",
       "220802c4-          -0.029850                              0.701888   \n",
       "220802c10           1.177020                              0.059765   \n",
       "\n",
       "           Dendrite Branching Angle B-Apical-mean  \\\n",
       "id                                                  \n",
       "220803c2                                -1.156670   \n",
       "220728c6                                -0.699440   \n",
       "220804c2                                 1.157574   \n",
       "220831c4                                 2.151415   \n",
       "220729c3                                 0.130924   \n",
       "...                                           ...   \n",
       "220802c9                                 0.818158   \n",
       "220728c5                                 0.131125   \n",
       "220804c1                                -0.210181   \n",
       "220802c4-                                1.098464   \n",
       "220802c10                               -0.528940   \n",
       "\n",
       "           Dendrite Length-Apical-mean  ...  Level-Basal-mean  \\\n",
       "id                                      ...                     \n",
       "220803c2                      1.760207  ...         -0.149285   \n",
       "220728c6                      0.497389  ...         -0.818476   \n",
       "220804c2                      1.162727  ...         -0.818476   \n",
       "220831c4                     -2.048692  ...          0.816752   \n",
       "220729c3                      1.764829  ...          1.035907   \n",
       "...                                ...  ...               ...   \n",
       "220802c9                      1.721922  ...         -1.078089   \n",
       "220728c5                      0.300169  ...         -0.363309   \n",
       "220804c1                      0.555046  ...         -0.014910   \n",
       "220802c4-                    -0.386965  ...         -1.003914   \n",
       "220802c10                     0.845565  ...         -0.682488   \n",
       "\n",
       "           Dendrite Branching Angle-Basal-mean  \\\n",
       "id                                               \n",
       "220803c2                              0.795178   \n",
       "220728c6                             -0.214589   \n",
       "220804c2                              1.121252   \n",
       "220831c4                              0.913675   \n",
       "220729c3                              0.523417   \n",
       "...                                        ...   \n",
       "220802c9                             -0.895772   \n",
       "220728c5                             -0.844247   \n",
       "220804c1                              1.402700   \n",
       "220802c4-                            -0.868144   \n",
       "220802c10                            -0.371274   \n",
       "\n",
       "           Dendrite Branching Angle B-Basal-mean  Dendrite Length-Basal-mean  \\\n",
       "id                                                                             \n",
       "220803c2                                0.065493                    0.670288   \n",
       "220728c6                               -0.334045                   -0.054428   \n",
       "220804c2                                0.692651                    0.373877   \n",
       "220831c4                                1.742722                   -1.651625   \n",
       "220729c3                               -0.046903                    0.887963   \n",
       "...                                          ...                         ...   \n",
       "220802c9                               -0.792283                   -1.190957   \n",
       "220728c5                                0.301441                   -0.131312   \n",
       "220804c1                                1.353935                   -0.957542   \n",
       "220802c4-                               0.048775                   -1.175676   \n",
       "220802c10                              -0.724041                    0.498127   \n",
       "\n",
       "           Dendrite Orientation Angle-Basal-mean  \\\n",
       "id                                                 \n",
       "220803c2                               -0.073439   \n",
       "220728c6                                0.682635   \n",
       "220804c2                                0.561354   \n",
       "220831c4                                1.257708   \n",
       "220729c3                               -0.035385   \n",
       "...                                          ...   \n",
       "220802c9                               -0.419526   \n",
       "220728c5                                0.830494   \n",
       "220804c1                               -0.123408   \n",
       "220802c4-                              -0.427041   \n",
       "220802c10                              -0.796654   \n",
       "\n",
       "           Dendrite Straightness-Basal-mean  dendrites-count  Basal-count  \\\n",
       "id                                                                          \n",
       "220803c2                           0.566016        -0.515663    -0.094490   \n",
       "220728c6                          -0.178700        -0.218667    -0.390991   \n",
       "220804c2                           0.064805        -0.324737    -0.390991   \n",
       "220831c4                           0.835960         0.099543     0.795015   \n",
       "220729c3                           0.191340        -0.324737     0.286727   \n",
       "...                                     ...              ...          ...   \n",
       "220802c9                           0.888262        -0.558091    -0.856922   \n",
       "220728c5                          -0.277890         1.754233     0.540871   \n",
       "220804c1                          -0.706395        -0.706589    -0.560421   \n",
       "220802c4-                          2.051261        -0.536877    -0.899280   \n",
       "220802c10                          0.577749        -0.197453    -0.433349   \n",
       "\n",
       "           Apical-count  level_1-count  \n",
       "id                                      \n",
       "220803c2      -0.667321       0.474851  \n",
       "220728c6      -0.361138       0.626152  \n",
       "220804c2      -1.024533       0.928753  \n",
       "220831c4      -0.310108      -0.281652  \n",
       "220729c3      -0.667321      -0.432952  \n",
       "...                 ...            ...  \n",
       "220802c9       0.098135      -0.432952  \n",
       "220728c5       2.700686       2.593059  \n",
       "220804c1      -0.565260      -0.886854  \n",
       "220802c4-      0.251227      -0.584253  \n",
       "220802c10      0.455348       0.172250  \n",
       "\n",
       "[65 rows x 23 columns]"
      ]
     },
     "execution_count": 7,
     "metadata": {},
     "output_type": "execute_result"
    }
   ],
   "source": [
    "cluster_df = my_matrix.dropna(axis = 0).apply(cluster.normalize).dropna(axis = 1)\n",
    "\n",
    "feat_to_del = ['Filament BoundingBoxAA Length X', 'Filament BoundingBoxAA Length Y', 'Filament BoundingBoxAA Length Z']\n",
    "cluster_df = cluster_df.drop(columns = feat_to_del)\n",
    "\n",
    "print(cluster_df.shape)\n",
    "\n",
    "cluster_df"
   ]
  },
  {
   "cell_type": "code",
   "execution_count": 9,
   "metadata": {},
   "outputs": [
    {
     "name": "stdout",
     "output_type": "stream",
     "text": [
      "Clustering yielded 5 clusters\n",
      "Groups: [19, 32, 3, 8, 3]\n"
     ]
    },
    {
     "data": {
      "text/html": [
       "<div>\n",
       "<style scoped>\n",
       "    .dataframe tbody tr th:only-of-type {\n",
       "        vertical-align: middle;\n",
       "    }\n",
       "\n",
       "    .dataframe tbody tr th {\n",
       "        vertical-align: top;\n",
       "    }\n",
       "\n",
       "    .dataframe thead th {\n",
       "        text-align: right;\n",
       "    }\n",
       "</style>\n",
       "<table border=\"1\" class=\"dataframe\">\n",
       "  <thead>\n",
       "    <tr style=\"text-align: right;\">\n",
       "      <th></th>\n",
       "      <th>avg_radius</th>\n",
       "      <th>max_radius</th>\n",
       "      <th>feat_by_radius</th>\n",
       "      <th>Filament BoundingBoxOO Length A</th>\n",
       "      <th>Filament BoundingBoxOO Length B</th>\n",
       "      <th>Filament BoundingBoxOO Length C</th>\n",
       "      <th>Filament Dendrite Length (sum)</th>\n",
       "      <th>Filament Distance from Origin</th>\n",
       "      <th>Depth-Apical-mean</th>\n",
       "      <th>Level-Apical-mean</th>\n",
       "      <th>...</th>\n",
       "      <th>Level-Basal-mean</th>\n",
       "      <th>Dendrite Branching Angle-Basal-mean</th>\n",
       "      <th>Dendrite Branching Angle B-Basal-mean</th>\n",
       "      <th>Dendrite Length-Basal-mean</th>\n",
       "      <th>Dendrite Orientation Angle-Basal-mean</th>\n",
       "      <th>Dendrite Straightness-Basal-mean</th>\n",
       "      <th>dendrites-count</th>\n",
       "      <th>Basal-count</th>\n",
       "      <th>Apical-count</th>\n",
       "      <th>level_1-count</th>\n",
       "    </tr>\n",
       "  </thead>\n",
       "  <tbody>\n",
       "    <tr>\n",
       "      <th>0</th>\n",
       "      <td>4.058349</td>\n",
       "      <td>5.470221</td>\n",
       "      <td>[Apical-count, dendrites-count, Dendrite Branc...</td>\n",
       "      <td>13.131071</td>\n",
       "      <td>14.22876</td>\n",
       "      <td>14.156266</td>\n",
       "      <td>11.349068</td>\n",
       "      <td>16.708336</td>\n",
       "      <td>9.086226</td>\n",
       "      <td>12.363642</td>\n",
       "      <td>...</td>\n",
       "      <td>12.441416</td>\n",
       "      <td>8.789239</td>\n",
       "      <td>12.047987</td>\n",
       "      <td>16.139602</td>\n",
       "      <td>18.995446</td>\n",
       "      <td>14.456816</td>\n",
       "      <td>7.777714</td>\n",
       "      <td>13.046072</td>\n",
       "      <td>5.484425</td>\n",
       "      <td>11.785517</td>\n",
       "    </tr>\n",
       "    <tr>\n",
       "      <th>1</th>\n",
       "      <td>3.670922</td>\n",
       "      <td>5.510725</td>\n",
       "      <td>[dendrites-count, Basal-count, Dendrite Orient...</td>\n",
       "      <td>26.514838</td>\n",
       "      <td>25.597076</td>\n",
       "      <td>23.603757</td>\n",
       "      <td>15.972702</td>\n",
       "      <td>26.997908</td>\n",
       "      <td>16.419828</td>\n",
       "      <td>17.208143</td>\n",
       "      <td>...</td>\n",
       "      <td>10.534575</td>\n",
       "      <td>27.446053</td>\n",
       "      <td>25.686677</td>\n",
       "      <td>28.754803</td>\n",
       "      <td>15.494564</td>\n",
       "      <td>26.659987</td>\n",
       "      <td>8.268148</td>\n",
       "      <td>8.503244</td>\n",
       "      <td>15.002937</td>\n",
       "      <td>16.680886</td>\n",
       "    </tr>\n",
       "    <tr>\n",
       "      <th>2</th>\n",
       "      <td>4.516916</td>\n",
       "      <td>4.96769</td>\n",
       "      <td>[Dendrite Branching Angle-Basal-mean, Dendrite...</td>\n",
       "      <td>3.139129</td>\n",
       "      <td>1.27716</td>\n",
       "      <td>0.737213</td>\n",
       "      <td>1.743451</td>\n",
       "      <td>1.654041</td>\n",
       "      <td>4.381005</td>\n",
       "      <td>4.730499</td>\n",
       "      <td>...</td>\n",
       "      <td>2.782318</td>\n",
       "      <td>0.415947</td>\n",
       "      <td>0.508277</td>\n",
       "      <td>1.37385</td>\n",
       "      <td>1.186699</td>\n",
       "      <td>1.79699</td>\n",
       "      <td>4.087226</td>\n",
       "      <td>3.445067</td>\n",
       "      <td>4.048412</td>\n",
       "      <td>3.328612</td>\n",
       "    </tr>\n",
       "    <tr>\n",
       "      <th>3</th>\n",
       "      <td>2.82048</td>\n",
       "      <td>5.099673</td>\n",
       "      <td>[Depth-Basal-mean, Dendrite Branching Angle B-...</td>\n",
       "      <td>5.894598</td>\n",
       "      <td>5.870302</td>\n",
       "      <td>6.614596</td>\n",
       "      <td>6.587924</td>\n",
       "      <td>3.346672</td>\n",
       "      <td>4.433904</td>\n",
       "      <td>3.002319</td>\n",
       "      <td>...</td>\n",
       "      <td>2.19857</td>\n",
       "      <td>4.102245</td>\n",
       "      <td>1.757053</td>\n",
       "      <td>2.589872</td>\n",
       "      <td>2.320063</td>\n",
       "      <td>2.234771</td>\n",
       "      <td>3.373022</td>\n",
       "      <td>5.040528</td>\n",
       "      <td>5.256131</td>\n",
       "      <td>7.262427</td>\n",
       "    </tr>\n",
       "    <tr>\n",
       "      <th>4</th>\n",
       "      <td>2.367714</td>\n",
       "      <td>2.560969</td>\n",
       "      <td>[Dendrite Branching Angle B-Apical-mean, Depth...</td>\n",
       "      <td>2.955858</td>\n",
       "      <td>0.538468</td>\n",
       "      <td>0.795641</td>\n",
       "      <td>1.206354</td>\n",
       "      <td>0.726355</td>\n",
       "      <td>0.0</td>\n",
       "      <td>0.0</td>\n",
       "      <td>...</td>\n",
       "      <td>1.648001</td>\n",
       "      <td>0.601116</td>\n",
       "      <td>0.858789</td>\n",
       "      <td>1.954069</td>\n",
       "      <td>0.947516</td>\n",
       "      <td>0.271821</td>\n",
       "      <td>0.947558</td>\n",
       "      <td>1.891963</td>\n",
       "      <td>0.0</td>\n",
       "      <td>2.319942</td>\n",
       "    </tr>\n",
       "  </tbody>\n",
       "</table>\n",
       "<p>5 rows × 26 columns</p>\n",
       "</div>"
      ],
      "text/plain": [
       "  avg_radius max_radius                                     feat_by_radius  \\\n",
       "0   4.058349   5.470221  [Apical-count, dendrites-count, Dendrite Branc...   \n",
       "1   3.670922   5.510725  [dendrites-count, Basal-count, Dendrite Orient...   \n",
       "2   4.516916    4.96769  [Dendrite Branching Angle-Basal-mean, Dendrite...   \n",
       "3    2.82048   5.099673  [Depth-Basal-mean, Dendrite Branching Angle B-...   \n",
       "4   2.367714   2.560969  [Dendrite Branching Angle B-Apical-mean, Depth...   \n",
       "\n",
       "  Filament BoundingBoxOO Length A Filament BoundingBoxOO Length B  \\\n",
       "0                       13.131071                        14.22876   \n",
       "1                       26.514838                       25.597076   \n",
       "2                        3.139129                         1.27716   \n",
       "3                        5.894598                        5.870302   \n",
       "4                        2.955858                        0.538468   \n",
       "\n",
       "  Filament BoundingBoxOO Length C Filament Dendrite Length (sum)  \\\n",
       "0                       14.156266                      11.349068   \n",
       "1                       23.603757                      15.972702   \n",
       "2                        0.737213                       1.743451   \n",
       "3                        6.614596                       6.587924   \n",
       "4                        0.795641                       1.206354   \n",
       "\n",
       "  Filament Distance from Origin Depth-Apical-mean Level-Apical-mean  ...  \\\n",
       "0                     16.708336          9.086226         12.363642  ...   \n",
       "1                     26.997908         16.419828         17.208143  ...   \n",
       "2                      1.654041          4.381005          4.730499  ...   \n",
       "3                      3.346672          4.433904          3.002319  ...   \n",
       "4                      0.726355               0.0               0.0  ...   \n",
       "\n",
       "  Level-Basal-mean Dendrite Branching Angle-Basal-mean  \\\n",
       "0        12.441416                            8.789239   \n",
       "1        10.534575                           27.446053   \n",
       "2         2.782318                            0.415947   \n",
       "3          2.19857                            4.102245   \n",
       "4         1.648001                            0.601116   \n",
       "\n",
       "  Dendrite Branching Angle B-Basal-mean Dendrite Length-Basal-mean  \\\n",
       "0                             12.047987                  16.139602   \n",
       "1                             25.686677                  28.754803   \n",
       "2                              0.508277                    1.37385   \n",
       "3                              1.757053                   2.589872   \n",
       "4                              0.858789                   1.954069   \n",
       "\n",
       "  Dendrite Orientation Angle-Basal-mean Dendrite Straightness-Basal-mean  \\\n",
       "0                             18.995446                        14.456816   \n",
       "1                             15.494564                        26.659987   \n",
       "2                              1.186699                          1.79699   \n",
       "3                              2.320063                         2.234771   \n",
       "4                              0.947516                         0.271821   \n",
       "\n",
       "  dendrites-count Basal-count Apical-count level_1-count  \n",
       "0        7.777714   13.046072     5.484425     11.785517  \n",
       "1        8.268148    8.503244    15.002937     16.680886  \n",
       "2        4.087226    3.445067     4.048412      3.328612  \n",
       "3        3.373022    5.040528     5.256131      7.262427  \n",
       "4        0.947558    1.891963          0.0      2.319942  \n",
       "\n",
       "[5 rows x 26 columns]"
      ]
     },
     "execution_count": 9,
     "metadata": {},
     "output_type": "execute_result"
    },
    {
     "data": {
      "image/png": "[encoded data removed]",
      "text/plain": [
       "<Figure size 3000x1000 with 1 Axes>"
      ]
     },
     "metadata": {},
     "output_type": "display_data"
    },
    {
     "data": {
      "image/png": "[encoded data removed]",
      "text/plain": [
       "<Figure size 3500x1000 with 1 Axes>"
      ]
     },
     "metadata": {},
     "output_type": "display_data"
    }
   ],
   "source": [
    "importlib.reload(cluster)\n",
    "\n",
    "cluster_model, label_2_color = cluster.hierarchical_cstm(cluster_df, d_thresh = 11.9, figsize = (30, 10))\n",
    "\n",
    "labels = cluster_model.labels_\n",
    "n_clusters = labels.max() + 1\n",
    "\n",
    "#plotting_tools.save_figure(op.join(f'/Users/AlexCionca/Documents/BrainHack-2023/Piriform_neurons/figures/hierarchical-tree-{n_clusters:02d}k.png'))\n",
    "\n",
    "# full_model, feature_df_nona.iloc[:, 1:], plot = True, col = lab2col\n",
    "centroids = cluster.get_centroids(cluster_model, cluster_df, col = label_2_color, plot = True)\n",
    "\n",
    "#plotting_tools.save_figure(op.join(f'/Users/AlexCionca/Documents/BrainHack-2023/Piriform_neurons/figures/hierarchical-centroids-{n_clusters:02d}k.png'))\n",
    "\n",
    "dist_to_centroid = cluster.get_centroid_distance(cluster_model, cluster_df, centroids)\n",
    "\n",
    "dist_to_centroid"
   ]
  },
  {
   "cell_type": "code",
   "execution_count": 10,
   "metadata": {},
   "outputs": [
    {
     "name": "stdout",
     "output_type": "stream",
     "text": [
      "Features with the least in-cluster variance:\n",
      "cluster 0 ['Apical-count', 'dendrites-count', 'Dendrite Branching Angle-Basal-mean', 'Depth-Apical-mean']\n",
      "cluster 1 ['dendrites-count', 'Basal-count', 'Dendrite Orientation Angle-Apical-mean', 'Level-Basal-mean']\n",
      "cluster 2 ['Dendrite Branching Angle-Basal-mean', 'Dendrite Branching Angle B-Apical-mean', 'Dendrite Branching Angle B-Basal-mean', 'Dendrite Orientation Angle-Apical-mean']\n",
      "cluster 3 ['Depth-Basal-mean', 'Dendrite Branching Angle B-Basal-mean', 'Level-Basal-mean', 'Dendrite Straightness-Basal-mean']\n",
      "cluster 4 ['Dendrite Branching Angle B-Apical-mean', 'Depth-Apical-mean', 'Level-Apical-mean', 'Apical-count']\n"
     ]
    }
   ],
   "source": [
    "print('Features with the least in-cluster variance:')\n",
    "\n",
    "for i, cluster_features in enumerate(dist_to_centroid.feat_by_radius):\n",
    "    print(f'cluster {i:d}', cluster_features[:4])"
   ]
  },
  {
   "cell_type": "code",
   "execution_count": 11,
   "metadata": {},
   "outputs": [
    {
     "name": "stdout",
     "output_type": "stream",
     "text": [
      "Cluster 1 : ['220803c2', '220831c4', '220729c3', '220729c6', '220804c7', '220831c6', '22072c4', '220728c4', '220729c4', '220803c6', '220909c3', '220804c6', '220804c3', '220831c5', '220802c6', '220729c5', '220902c4', '220804c9', '220804c4']\n",
      "Cluster 2 : ['220728c6', '220804c2', '221022c1', '220802c2', '221003c1', '220726c8', '220726t2', '220729c1', '220802c5', '220802c11', '221003c3', '220728c6-', '220804c8', '220905c3', '220905c1', '221005c2', '220728c2', '220728c3', '220804c5', '221003c5', '221003c8', '220726c1', '220802c3-', '220909c4', '220726c3', '220909c2', '220726c7', '220727c4-', '220802c9', '220804c1', '220802c4-', '220802c10']\n",
      "Cluster 3 : ['221003c7', '220905c2', '221003c4']\n",
      "Cluster 4 : ['220728c7', '220728c62', '220728c5', '220728c9', '221003c6', '220728c7', '220729c2', '220728c5']\n",
      "Cluster 5 : ['220909c5', '220902c5', '220803c3']\n"
     ]
    },
    {
     "name": "stderr",
     "output_type": "stream",
     "text": [
      "/var/folders/zw/s9jkbctn3193dlc4s0nyk3440000gn/T/ipykernel_37278/1113683998.py:7: SettingWithCopyWarning: \n",
      "A value is trying to be set on a copy of a slice from a DataFrame.\n",
      "Try using .loc[row_indexer,col_indexer] = value instead\n",
      "\n",
      "See the caveats in the documentation: https://pandas.pydata.org/pandas-docs/stable/user_guide/indexing.html#returning-a-view-versus-a-copy\n",
      "  label_save_df[f'labels-{n_clusters}k'] = labels\n"
     ]
    },
    {
     "ename": "OSError",
     "evalue": "Cannot save file into a non-existent directory: '/Users/AlexCionca/Documents/BrainHack-2023/Piriform_neurons'",
     "output_type": "error",
     "traceback": [
      "\u001b[0;31m---------------------------------------------------------------------------\u001b[0m",
      "\u001b[0;31mOSError\u001b[0m                                   Traceback (most recent call last)",
      "Cell \u001b[0;32mIn[11], line 11\u001b[0m\n\u001b[1;32m      7\u001b[0m label_save_df[\u001b[39mf\u001b[39m\u001b[39m'\u001b[39m\u001b[39mlabels-\u001b[39m\u001b[39m{\u001b[39;00mn_clusters\u001b[39m}\u001b[39;00m\u001b[39mk\u001b[39m\u001b[39m'\u001b[39m] \u001b[39m=\u001b[39m labels\n\u001b[1;32m      9\u001b[0m label_save_df \u001b[39m=\u001b[39m label_save_df\u001b[39m.\u001b[39mdrop(columns \u001b[39m=\u001b[39m [\u001b[39m'\u001b[39m\u001b[39mFilament BoundingBoxOO Length A\u001b[39m\u001b[39m'\u001b[39m])\n\u001b[0;32m---> 11\u001b[0m label_save_df\u001b[39m.\u001b[39;49mto_csv(\u001b[39m'\u001b[39;49m\u001b[39m/Users/AlexCionca/Documents/BrainHack-2023/Piriform_neurons/neuron_clustering.csv\u001b[39;49m\u001b[39m'\u001b[39;49m)\n",
      "File \u001b[0;32m~/miniconda3/envs/piriform-cortex/lib/python3.9/site-packages/pandas/util/_decorators.py:211\u001b[0m, in \u001b[0;36mdeprecate_kwarg.<locals>._deprecate_kwarg.<locals>.wrapper\u001b[0;34m(*args, **kwargs)\u001b[0m\n\u001b[1;32m    209\u001b[0m     \u001b[39melse\u001b[39;00m:\n\u001b[1;32m    210\u001b[0m         kwargs[new_arg_name] \u001b[39m=\u001b[39m new_arg_value\n\u001b[0;32m--> 211\u001b[0m \u001b[39mreturn\u001b[39;00m func(\u001b[39m*\u001b[39;49margs, \u001b[39m*\u001b[39;49m\u001b[39m*\u001b[39;49mkwargs)\n",
      "File \u001b[0;32m~/miniconda3/envs/piriform-cortex/lib/python3.9/site-packages/pandas/core/generic.py:3720\u001b[0m, in \u001b[0;36mNDFrame.to_csv\u001b[0;34m(self, path_or_buf, sep, na_rep, float_format, columns, header, index, index_label, mode, encoding, compression, quoting, quotechar, lineterminator, chunksize, date_format, doublequote, escapechar, decimal, errors, storage_options)\u001b[0m\n\u001b[1;32m   3709\u001b[0m df \u001b[39m=\u001b[39m \u001b[39mself\u001b[39m \u001b[39mif\u001b[39;00m \u001b[39misinstance\u001b[39m(\u001b[39mself\u001b[39m, ABCDataFrame) \u001b[39melse\u001b[39;00m \u001b[39mself\u001b[39m\u001b[39m.\u001b[39mto_frame()\n\u001b[1;32m   3711\u001b[0m formatter \u001b[39m=\u001b[39m DataFrameFormatter(\n\u001b[1;32m   3712\u001b[0m     frame\u001b[39m=\u001b[39mdf,\n\u001b[1;32m   3713\u001b[0m     header\u001b[39m=\u001b[39mheader,\n\u001b[0;32m   (...)\u001b[0m\n\u001b[1;32m   3717\u001b[0m     decimal\u001b[39m=\u001b[39mdecimal,\n\u001b[1;32m   3718\u001b[0m )\n\u001b[0;32m-> 3720\u001b[0m \u001b[39mreturn\u001b[39;00m DataFrameRenderer(formatter)\u001b[39m.\u001b[39;49mto_csv(\n\u001b[1;32m   3721\u001b[0m     path_or_buf,\n\u001b[1;32m   3722\u001b[0m     lineterminator\u001b[39m=\u001b[39;49mlineterminator,\n\u001b[1;32m   3723\u001b[0m     sep\u001b[39m=\u001b[39;49msep,\n\u001b[1;32m   3724\u001b[0m     encoding\u001b[39m=\u001b[39;49mencoding,\n\u001b[1;32m   3725\u001b[0m     errors\u001b[39m=\u001b[39;49merrors,\n\u001b[1;32m   3726\u001b[0m     compression\u001b[39m=\u001b[39;49mcompression,\n\u001b[1;32m   3727\u001b[0m     quoting\u001b[39m=\u001b[39;49mquoting,\n\u001b[1;32m   3728\u001b[0m     columns\u001b[39m=\u001b[39;49mcolumns,\n\u001b[1;32m   3729\u001b[0m     index_label\u001b[39m=\u001b[39;49mindex_label,\n\u001b[1;32m   3730\u001b[0m     mode\u001b[39m=\u001b[39;49mmode,\n\u001b[1;32m   3731\u001b[0m     chunksize\u001b[39m=\u001b[39;49mchunksize,\n\u001b[1;32m   3732\u001b[0m     quotechar\u001b[39m=\u001b[39;49mquotechar,\n\u001b[1;32m   3733\u001b[0m     date_format\u001b[39m=\u001b[39;49mdate_format,\n\u001b[1;32m   3734\u001b[0m     doublequote\u001b[39m=\u001b[39;49mdoublequote,\n\u001b[1;32m   3735\u001b[0m     escapechar\u001b[39m=\u001b[39;49mescapechar,\n\u001b[1;32m   3736\u001b[0m     storage_options\u001b[39m=\u001b[39;49mstorage_options,\n\u001b[1;32m   3737\u001b[0m )\n",
      "File \u001b[0;32m~/miniconda3/envs/piriform-cortex/lib/python3.9/site-packages/pandas/util/_decorators.py:211\u001b[0m, in \u001b[0;36mdeprecate_kwarg.<locals>._deprecate_kwarg.<locals>.wrapper\u001b[0;34m(*args, **kwargs)\u001b[0m\n\u001b[1;32m    209\u001b[0m     \u001b[39melse\u001b[39;00m:\n\u001b[1;32m    210\u001b[0m         kwargs[new_arg_name] \u001b[39m=\u001b[39m new_arg_value\n\u001b[0;32m--> 211\u001b[0m \u001b[39mreturn\u001b[39;00m func(\u001b[39m*\u001b[39;49margs, \u001b[39m*\u001b[39;49m\u001b[39m*\u001b[39;49mkwargs)\n",
      "File \u001b[0;32m~/miniconda3/envs/piriform-cortex/lib/python3.9/site-packages/pandas/io/formats/format.py:1189\u001b[0m, in \u001b[0;36mDataFrameRenderer.to_csv\u001b[0;34m(self, path_or_buf, encoding, sep, columns, index_label, mode, compression, quoting, quotechar, lineterminator, chunksize, date_format, doublequote, escapechar, errors, storage_options)\u001b[0m\n\u001b[1;32m   1168\u001b[0m     created_buffer \u001b[39m=\u001b[39m \u001b[39mFalse\u001b[39;00m\n\u001b[1;32m   1170\u001b[0m csv_formatter \u001b[39m=\u001b[39m CSVFormatter(\n\u001b[1;32m   1171\u001b[0m     path_or_buf\u001b[39m=\u001b[39mpath_or_buf,\n\u001b[1;32m   1172\u001b[0m     lineterminator\u001b[39m=\u001b[39mlineterminator,\n\u001b[0;32m   (...)\u001b[0m\n\u001b[1;32m   1187\u001b[0m     formatter\u001b[39m=\u001b[39m\u001b[39mself\u001b[39m\u001b[39m.\u001b[39mfmt,\n\u001b[1;32m   1188\u001b[0m )\n\u001b[0;32m-> 1189\u001b[0m csv_formatter\u001b[39m.\u001b[39;49msave()\n\u001b[1;32m   1191\u001b[0m \u001b[39mif\u001b[39;00m created_buffer:\n\u001b[1;32m   1192\u001b[0m     \u001b[39massert\u001b[39;00m \u001b[39misinstance\u001b[39m(path_or_buf, StringIO)\n",
      "File \u001b[0;32m~/miniconda3/envs/piriform-cortex/lib/python3.9/site-packages/pandas/io/formats/csvs.py:241\u001b[0m, in \u001b[0;36mCSVFormatter.save\u001b[0;34m(self)\u001b[0m\n\u001b[1;32m    237\u001b[0m \u001b[39m\u001b[39m\u001b[39m\"\"\"\u001b[39;00m\n\u001b[1;32m    238\u001b[0m \u001b[39mCreate the writer & save.\u001b[39;00m\n\u001b[1;32m    239\u001b[0m \u001b[39m\"\"\"\u001b[39;00m\n\u001b[1;32m    240\u001b[0m \u001b[39m# apply compression and byte/text conversion\u001b[39;00m\n\u001b[0;32m--> 241\u001b[0m \u001b[39mwith\u001b[39;00m get_handle(\n\u001b[1;32m    242\u001b[0m     \u001b[39mself\u001b[39;49m\u001b[39m.\u001b[39;49mfilepath_or_buffer,\n\u001b[1;32m    243\u001b[0m     \u001b[39mself\u001b[39;49m\u001b[39m.\u001b[39;49mmode,\n\u001b[1;32m    244\u001b[0m     encoding\u001b[39m=\u001b[39;49m\u001b[39mself\u001b[39;49m\u001b[39m.\u001b[39;49mencoding,\n\u001b[1;32m    245\u001b[0m     errors\u001b[39m=\u001b[39;49m\u001b[39mself\u001b[39;49m\u001b[39m.\u001b[39;49merrors,\n\u001b[1;32m    246\u001b[0m     compression\u001b[39m=\u001b[39;49m\u001b[39mself\u001b[39;49m\u001b[39m.\u001b[39;49mcompression,\n\u001b[1;32m    247\u001b[0m     storage_options\u001b[39m=\u001b[39;49m\u001b[39mself\u001b[39;49m\u001b[39m.\u001b[39;49mstorage_options,\n\u001b[1;32m    248\u001b[0m ) \u001b[39mas\u001b[39;00m handles:\n\u001b[1;32m    249\u001b[0m \n\u001b[1;32m    250\u001b[0m     \u001b[39m# Note: self.encoding is irrelevant here\u001b[39;00m\n\u001b[1;32m    251\u001b[0m     \u001b[39mself\u001b[39m\u001b[39m.\u001b[39mwriter \u001b[39m=\u001b[39m csvlib\u001b[39m.\u001b[39mwriter(\n\u001b[1;32m    252\u001b[0m         handles\u001b[39m.\u001b[39mhandle,\n\u001b[1;32m    253\u001b[0m         lineterminator\u001b[39m=\u001b[39m\u001b[39mself\u001b[39m\u001b[39m.\u001b[39mlineterminator,\n\u001b[0;32m   (...)\u001b[0m\n\u001b[1;32m    258\u001b[0m         quotechar\u001b[39m=\u001b[39m\u001b[39mself\u001b[39m\u001b[39m.\u001b[39mquotechar,\n\u001b[1;32m    259\u001b[0m     )\n\u001b[1;32m    261\u001b[0m     \u001b[39mself\u001b[39m\u001b[39m.\u001b[39m_save()\n",
      "File \u001b[0;32m~/miniconda3/envs/piriform-cortex/lib/python3.9/site-packages/pandas/io/common.py:734\u001b[0m, in \u001b[0;36mget_handle\u001b[0;34m(path_or_buf, mode, encoding, compression, memory_map, is_text, errors, storage_options)\u001b[0m\n\u001b[1;32m    732\u001b[0m \u001b[39m# Only for write methods\u001b[39;00m\n\u001b[1;32m    733\u001b[0m \u001b[39mif\u001b[39;00m \u001b[39m\"\u001b[39m\u001b[39mr\u001b[39m\u001b[39m\"\u001b[39m \u001b[39mnot\u001b[39;00m \u001b[39min\u001b[39;00m mode \u001b[39mand\u001b[39;00m is_path:\n\u001b[0;32m--> 734\u001b[0m     check_parent_directory(\u001b[39mstr\u001b[39;49m(handle))\n\u001b[1;32m    736\u001b[0m \u001b[39mif\u001b[39;00m compression:\n\u001b[1;32m    737\u001b[0m     \u001b[39mif\u001b[39;00m compression \u001b[39m!=\u001b[39m \u001b[39m\"\u001b[39m\u001b[39mzstd\u001b[39m\u001b[39m\"\u001b[39m:\n\u001b[1;32m    738\u001b[0m         \u001b[39m# compression libraries do not like an explicit text-mode\u001b[39;00m\n",
      "File \u001b[0;32m~/miniconda3/envs/piriform-cortex/lib/python3.9/site-packages/pandas/io/common.py:597\u001b[0m, in \u001b[0;36mcheck_parent_directory\u001b[0;34m(path)\u001b[0m\n\u001b[1;32m    595\u001b[0m parent \u001b[39m=\u001b[39m Path(path)\u001b[39m.\u001b[39mparent\n\u001b[1;32m    596\u001b[0m \u001b[39mif\u001b[39;00m \u001b[39mnot\u001b[39;00m parent\u001b[39m.\u001b[39mis_dir():\n\u001b[0;32m--> 597\u001b[0m     \u001b[39mraise\u001b[39;00m \u001b[39mOSError\u001b[39;00m(\u001b[39mrf\u001b[39m\u001b[39m\"\u001b[39m\u001b[39mCannot save file into a non-existent directory: \u001b[39m\u001b[39m'\u001b[39m\u001b[39m{\u001b[39;00mparent\u001b[39m}\u001b[39;00m\u001b[39m'\u001b[39m\u001b[39m\"\u001b[39m)\n",
      "\u001b[0;31mOSError\u001b[0m: Cannot save file into a non-existent directory: '/Users/AlexCionca/Documents/BrainHack-2023/Piriform_neurons'"
     ]
    }
   ],
   "source": [
    "labels\n",
    "\n",
    "for i in range(n_clusters):\n",
    "    print(f'Cluster {i + 1} :', cluster_df.loc[labels == i].index.tolist())\n",
    "\n",
    "label_save_df = cluster_df.iloc[:, :1]\n",
    "label_save_df[f'labels-{n_clusters}k'] = labels\n",
    "\n",
    "label_save_df = label_save_df.drop(columns = ['Filament BoundingBoxOO Length A'])\n",
    "\n",
    "label_save_df.to_csv('/Users/AlexCionca/Documents/BrainHack-2023/Piriform_neurons/neuron_clustering.csv')"
   ]
  },
  {
   "cell_type": "code",
   "execution_count": null,
   "metadata": {},
   "outputs": [],
   "source": []
  }
 ],
 "metadata": {
  "kernelspec": {
   "display_name": "Python 3 (ipykernel)",
   "language": "python",
   "name": "python3"
  },
  "language_info": {
   "codemirror_mode": {
    "name": "ipython",
    "version": 3
   },
   "file_extension": ".py",
   "mimetype": "text/x-python",
   "name": "python",
   "nbconvert_exporter": "python",
   "pygments_lexer": "ipython3",
   "version": "3.9.16"
  },
  "vscode": {
   "interpreter": {
    "hash": "4f83dcd936fc1e0c32f81a77249ec48d912b4c0a2f1ebdd7d461d99453f32269"
   }
  }
 },
 "nbformat": 4,
 "nbformat_minor": 2
}
