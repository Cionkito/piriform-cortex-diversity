{
 "cells": [
  {
   "cell_type": "code",
   "execution_count": null,
   "metadata": {},
   "outputs": [],
   "source": [
    "import pandas as pd\n",
    "import numpy as np\n",
    "\n",
    "import os.path as op\n",
    "import sys\n",
    "\n",
    "sys.path.append(op.abspath('../code'))\n",
    "\n",
    "import plotting_tools\n",
    "\n",
    "import importlib\n",
    "\n",
    "import data_loaders as dload\n",
    "import clusterize as cluster\n",
    "\n",
    "import ipywidgets"
   ]
  },
  {
   "cell_type": "code",
   "execution_count": null,
   "metadata": {},
   "outputs": [],
   "source": [
    "default_path = '/mnt/c/Users/Cionkito/Documents/Brainhack2022/Piriform_neurons'\n",
    "\n",
    "path_to_Piriform_neurons_widg = ipywidgets.Textarea(value=default_path,\n",
    "                                                placeholder='Insert your path here',\n",
    "                                                description='String:',\n",
    "                                                disabled=False)\n",
    "display(path_to_Piriform_neurons_widg)"
   ]
  },
  {
   "cell_type": "code",
   "execution_count": null,
   "metadata": {
    "scrolled": true
   },
   "outputs": [],
   "source": [
    "#path_to_Piriform_neurons = '/mnt/c/Users/Cionkito/Documents/Brainhack2022/Piriform_neurons'\n",
    "importlib.reload(dload)\n",
    "path_to_Piriform_neurons = path_to_Piriform_neurons_widg.value\n",
    "path_to_xls = op.join(path_to_Piriform_neurons, 'data')\n",
    "neuron_df = dload.get_neuron_matrix(path_to_xls, verb = False)\n",
    "\n",
    "is_na_idx = np.where(neuron_df.isna())[0]\n",
    "\n",
    "cluster_df = neuron_df.dropna(axis = 0).apply(cluster.normalize).dropna(axis = 1)"
   ]
  },
  {
   "cell_type": "code",
   "execution_count": null,
   "metadata": {},
   "outputs": [],
   "source": [
    "feature_selection =  ipywidgets.SelectMultiple(options=cluster_df.columns.tolist(),\n",
    "                                                value=[],\n",
    "                                                rows=len(cluster_df.columns.tolist())+1,\n",
    "                                                description='Features',\n",
    "                                                description_width = 20,\n",
    "                                                disabled=False)\n",
    "\n",
    "#feature_selection_tag = ipywidgets.TagsInput(value=cluster_df.columns.tolist(),\n",
    "#                                            allowed_tags=cluster_df.columns.tolist(),\n",
    "#                                            allow_duplicates=False)"
   ]
  },
  {
   "cell_type": "markdown",
   "metadata": {},
   "source": [
    "### Feature selection\n",
    "Here you may select the features you wish to keep for the clustering. To do so, please, hold `CMD` (or `CTRL` for Windows users) and select the desired features. You can select all feature using `SHIFT` and sliding from the top to the bottom of the list."
   ]
  },
  {
   "cell_type": "code",
   "execution_count": null,
   "metadata": {},
   "outputs": [],
   "source": [
    "display(feature_selection)"
   ]
  },
  {
   "cell_type": "code",
   "execution_count": null,
   "metadata": {},
   "outputs": [],
   "source": [
    "#is_na_idx = np.where(my_matrix.isna())[0]\n",
    "#\n",
    "#cluster_df = my_matrix.dropna(axis = 0).apply(cluster.normalize).dropna(axis = 1)\n",
    "#\n",
    "#feat_to_del = ['Filament BoundingBoxAA Length X', 'Filament BoundingBoxAA Length Y', 'Filament BoundingBoxAA Length Z']\n",
    "#cluster_df = cluster_df.drop(columns = feat_to_del)\n",
    "\n",
    "cluster_filtered_df = cluster_df.loc[:, feature_selection.value].copy()\n",
    "\n",
    "print(f' {cluster_filtered_df.shape[1]} columns selected for the clustering :\\n-',\n",
    "      '\\n- '.join(cluster_filtered_df.columns.tolist()))\n",
    "print(f'\\n{cluster_filtered_df.shape[0]} neurons selected for the clustering :\\n',\n",
    "      cluster_filtered_df.index.tolist())\n",
    "\n",
    "#cluster_df"
   ]
  },
  {
   "cell_type": "code",
   "execution_count": null,
   "metadata": {},
   "outputs": [],
   "source": [
    "show_figures = ipywidgets.ToggleButton(value=False,\n",
    "                    description='Show figures',\n",
    "                    disabled=False,\n",
    "                    indent=False)\n",
    "\n",
    "save_figures = ipywidgets.ToggleButton(value=False,\n",
    "                    description='Save figures',\n",
    "                    disabled=False,\n",
    "                    indent=False)"
   ]
  },
  {
   "cell_type": "markdown",
   "metadata": {},
   "source": [
    "### Figure parameters\n",
    "Here you can specify if you wish to show and save the clustering figures by pressing the respective butttons."
   ]
  },
  {
   "cell_type": "code",
   "execution_count": null,
   "metadata": {},
   "outputs": [],
   "source": [
    "ipywidgets.Box([show_figures, save_figures])"
   ]
  },
  {
   "cell_type": "code",
   "execution_count": null,
   "metadata": {},
   "outputs": [],
   "source": [
    "importlib.reload(cluster)\n",
    "\n",
    "cluster_model, label_2_color = cluster.hierarchical_cstm(cluster_df, d_thresh = 11.9,\n",
    "                                                         figsize = (30, 10), plot = show_figures.value)\n",
    "\n",
    "labels = cluster_model.labels_\n",
    "n_clusters = labels.max() + 1\n",
    "\n",
    "if save_figures.value:\n",
    "    plotting_tools.save_figure(op.join(path_to_Piriform_neurons,\n",
    "                                       f'figures/hierarchical-tree-{n_clusters:02d}clusters.png'))\n",
    "\n",
    "centroids = cluster.get_centroids(cluster_model, cluster_df, col = label_2_color,\n",
    "                                  plot = show_figures.value)\n",
    "\n",
    "if save_figures.value:\n",
    "    plotting_tools.save_figure(op.join(path_to_Piriform_neurons,\n",
    "                                       f'figures/hierarchical-centroids-{n_clusters:02d}clusters.png'))\n",
    "\n",
    "dist_to_centroid = cluster.get_centroid_distance(cluster_model, cluster_df, centroids)"
   ]
  },
  {
   "cell_type": "markdown",
   "metadata": {},
   "source": [
    "### Interpretation of clustering results (above)\n",
    "- The clustering stability (in distance) shows the distance before two clusters are merged into one. In other words, the larger the distance, the more stable is the clustering for a specified  number of clusters _k_.\n",
    "- The number of clusters is only given if the clustering is parametrized through a specified distance.\n",
    "- The _Groups_ shows the number of samples (neurons) in each cluster."
   ]
  },
  {
   "cell_type": "code",
   "execution_count": null,
   "metadata": {},
   "outputs": [],
   "source": [
    "#print('List of neurons in each cluster:')\n",
    "#\n",
    "#for i in range(n_clusters):\n",
    "#    print(f'cluster #{i + 1} :', cluster_df.loc[labels == i].index.tolist())\n",
    "\n",
    "label_save_df = cluster_df.iloc[:, :1].copy()\n",
    "label_save_df[f'labels-{n_clusters}k'] = labels\n",
    "\n",
    "#label_save_df = label_save_df.drop(columns = ['Filament BoundingBoxOO Length A'])\n",
    "\n",
    "# Un-comment to save cluster labels (from 0 to n_cluster-1) in .csv file\n",
    "# where each row is a neuron with an ID and its corresponding label\n",
    "\n",
    "#label_save_df.to_csv('/Users/AlexCionca/Documents/BrainHack-2023/Piriform_neurons/neuron_clustering.csv')"
   ]
  },
  {
   "cell_type": "markdown",
   "metadata": {},
   "source": [
    "### List of neurons in each cluster :"
   ]
  },
  {
   "cell_type": "code",
   "execution_count": null,
   "metadata": {},
   "outputs": [],
   "source": [
    "for i in range(n_clusters):\n",
    "    print(f'cluster #{i + 1} :', cluster_df.loc[labels == i].index.tolist())"
   ]
  },
  {
   "cell_type": "markdown",
   "metadata": {},
   "source": [
    "### Features with the least in-cluster variability  (most in-cluster similarity) :"
   ]
  },
  {
   "cell_type": "code",
   "execution_count": null,
   "metadata": {},
   "outputs": [],
   "source": [
    "for i, cluster_features in enumerate(dist_to_centroid.feat_by_radius):\n",
    "    print(f'cluster #{i + 1:d}', cluster_features[:4])"
   ]
  },
  {
   "cell_type": "code",
   "execution_count": null,
   "metadata": {},
   "outputs": [],
   "source": []
  }
 ],
 "metadata": {
  "kernelspec": {
   "display_name": "Python 3 (ipykernel)",
   "language": "python",
   "name": "python3"
  },
  "language_info": {
   "codemirror_mode": {
    "name": "ipython",
    "version": 3
   },
   "file_extension": ".py",
   "mimetype": "text/x-python",
   "name": "python",
   "nbconvert_exporter": "python",
   "pygments_lexer": "ipython3",
   "version": "3.9.16"
  },
  "vscode": {
   "interpreter": {
    "hash": "4f83dcd936fc1e0c32f81a77249ec48d912b4c0a2f1ebdd7d461d99453f32269"
   }
  }
 },
 "nbformat": 4,
 "nbformat_minor": 2
}
