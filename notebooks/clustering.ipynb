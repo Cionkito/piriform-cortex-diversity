{
 "cells": [
  {
   "cell_type": "code",
   "execution_count": null,
   "metadata": {},
   "outputs": [],
   "source": [
    "import pandas as pd\n",
    "import numpy as np\n",
    "\n",
    "import os.path as op\n",
    "import sys\n",
    "\n",
    "sys.path.append(op.abspath('../code'))\n",
    "\n",
    "import importlib\n",
    "\n",
    "import data_loaders as dload\n",
    "import clusterize as cluster"
   ]
  },
  {
   "cell_type": "code",
   "execution_count": null,
   "metadata": {},
   "outputs": [],
   "source": [
    "path_to_xls = '/Users/AlexCionca/Documents/BrainHack-2023/Piriform_neurons/data/'\n",
    "my_matrix = dload.get_neuron_matrix(path_to_xls)\n",
    "my_matrix"
   ]
  },
  {
   "cell_type": "code",
   "execution_count": null,
   "metadata": {},
   "outputs": [],
   "source": [
    "is_na_idx = np.where(my_matrix.isna())[0]\n",
    "print(is_na_idx)\n",
    "my_matrix.iloc[is_na_idx]"
   ]
  },
  {
   "cell_type": "code",
   "execution_count": null,
   "metadata": {},
   "outputs": [],
   "source": [
    "importlib.reload(cluster)\n",
    "\n",
    "cluster_df = my_matrix.dropna(axis = 0).apply(cluster.normalize)\n",
    "\n",
    "cluster_model, label_2_color = cluster.hierarchical_cstm(cluster_df, d_thresh = 16000)\n",
    "\n",
    "# full_model, feature_df_nona.iloc[:, 1:], plot = True, col = lab2col\n",
    "centroids = cluster.get_centroids(cluster_model, cluster_df, col = label_2_color, plot = True)\n",
    "\n",
    "dist_to_centroid = cluster.get_centroid_distance(cluster_model, cluster_df, centroids)\n",
    "\n",
    "dist_to_centroid"
   ]
  },
  {
   "cell_type": "code",
   "execution_count": null,
   "metadata": {},
   "outputs": [],
   "source": []
  }
 ],
 "metadata": {
  "kernelspec": {
   "display_name": "Python 3.7.6 ('STD')",
   "language": "python",
   "name": "python3"
  },
  "language_info": {
   "codemirror_mode": {
    "name": "ipython",
    "version": 3
   },
   "file_extension": ".py",
   "mimetype": "text/x-python",
   "name": "python",
   "nbconvert_exporter": "python",
   "pygments_lexer": "ipython3",
   "version": "3.7.6"
  },
  "orig_nbformat": 4,
  "vscode": {
   "interpreter": {
    "hash": "17dec2264cf5ef3203d46a2c3f9e1e3abe44e9e112904302f91c75dbc3c6f66c"
   }
  }
 },
 "nbformat": 4,
 "nbformat_minor": 2
}
