{
 "cells": [
  {
   "cell_type": "code",
   "execution_count": 1,
   "metadata": {},
   "outputs": [],
   "source": [
    "import pandas as pd\n",
    "import numpy as np\n",
    "\n",
    "import os.path as op\n",
    "import sys\n",
    "\n",
    "sys.path.append(op.abspath('../code'))\n",
    "\n",
    "import plotting_tools\n",
    "\n",
    "import importlib\n",
    "\n",
    "import data_loaders as dload\n",
    "import clusterize as cluster\n",
    "\n",
    "import ipywidgets"
   ]
  },
  {
   "cell_type": "code",
   "execution_count": 2,
   "metadata": {},
   "outputs": [],
   "source": [
    "default_path = '/Users/hugofluhr/Library/CloudStorage/GoogleDrive-hugo.fluhr@gmail.com/My Drive/Piriform_neurons/data/data_xls_v2'\n",
    "\n",
    "path_to_data_widg = ipywidgets.Textarea(value=default_path,\n",
    "                                        placeholder='Insert your path here',\n",
    "                                        description='Path to data:',\n",
    "                                        disabled=False,\n",
    "                                        layout=ipywidgets.Layout(width='850px', height='30px'))"
   ]
  },
  {
   "attachments": {},
   "cell_type": "markdown",
   "metadata": {},
   "source": [
    "### Setting path\n",
    "Here you may set the path and name of your data folder."
   ]
  },
  {
   "cell_type": "code",
   "execution_count": 3,
   "metadata": {},
   "outputs": [
    {
     "data": {
      "application/vnd.jupyter.widget-view+json": {
       "model_id": "da0108f7c2394116ad4353c258641b52",
       "version_major": 2,
       "version_minor": 0
      },
      "text/plain": [
       "Textarea(value='/Users/hugofluhr/Library/CloudStorage/GoogleDrive-hugo.fluhr@gmail.com/My Drive/Piriform_neuro…"
      ]
     },
     "metadata": {},
     "output_type": "display_data"
    }
   ],
   "source": [
    "display(path_to_data_widg)"
   ]
  },
  {
   "cell_type": "code",
   "execution_count": 4,
   "metadata": {
    "scrolled": true
   },
   "outputs": [
    {
     "data": {
      "application/vnd.jupyter.widget-view+json": {
       "model_id": "df0c16bddcd141958b6dc412f8cc7387",
       "version_major": 2,
       "version_minor": 0
      },
      "text/plain": [
       "IntProgress(value=1, description='Loading data:', max=103, min=1, style=ProgressStyle(bar_color='#AAAAAA'))"
      ]
     },
     "metadata": {},
     "output_type": "display_data"
    }
   ],
   "source": [
    "importlib.reload(dload)\n",
    "path_to_data = path_to_data_widg.value\n",
    "neuron_df = dload.get_neuron_matrix(path_to_data, verb = False)\n",
    "\n",
    "cluster_df = neuron_df.apply(cluster.normalize)"
   ]
  },
  {
   "cell_type": "code",
   "execution_count": 5,
   "metadata": {},
   "outputs": [],
   "source": [
    "feature_selection =  ipywidgets.SelectMultiple(options=cluster_df.columns.tolist(),\n",
    "                                                value=cluster_df.columns.tolist(),\n",
    "                                                rows=len(cluster_df.columns.tolist())+1,\n",
    "                                                description='Features',\n",
    "                                                description_width = 40,\n",
    "                                                disabled=False)\n",
    "\n",
    "#feature_selection_tag = ipywidgets.TagsInput(value=cluster_df.columns.tolist(),\n",
    "#                                            allowed_tags=cluster_df.columns.tolist(),\n",
    "#                                            allow_duplicates=False)"
   ]
  },
  {
   "cell_type": "markdown",
   "metadata": {},
   "source": [
    "### Feature selection\n",
    "Here you may select the features you wish to keep for the clustering. To do so, please, hold `CMD` (or `CTRL` for Windows users) and select the desired features. You can select all feature using `SHIFT` and sliding from the top to the bottom of the list."
   ]
  },
  {
   "cell_type": "code",
   "execution_count": 6,
   "metadata": {},
   "outputs": [
    {
     "data": {
      "application/vnd.jupyter.widget-view+json": {
       "model_id": "29e9fa5eeec741bab13ca54aef0cad66",
       "version_major": 2,
       "version_minor": 0
      },
      "text/plain": [
       "SelectMultiple(description='Features', index=(0, 1, 2, 3, 4, 5, 6, 7, 8, 9, 10, 11, 12, 13, 14, 15, 16, 17, 18…"
      ]
     },
     "metadata": {},
     "output_type": "display_data"
    }
   ],
   "source": [
    "display(feature_selection)"
   ]
  },
  {
   "cell_type": "code",
   "execution_count": null,
   "metadata": {},
   "outputs": [],
   "source": [
    "feature_selection.value"
   ]
  },
  {
   "cell_type": "code",
   "execution_count": null,
   "metadata": {},
   "outputs": [],
   "source": [
    "cluster_filtered_df = cluster_df.loc[:, feature_selection.value].dropna(axis = 0).copy()\n",
    "\n",
    "print(f' {cluster_filtered_df.shape[1]} columns selected for the clustering :\\n-',\n",
    "      '\\n- '.join(cluster_filtered_df.columns.tolist()))\n",
    "print(f'\\n{cluster_filtered_df.shape[0]} neurons selected for the clustering (after clearing missing values) :\\n',\n",
    "      cluster_filtered_df.index.tolist())"
   ]
  },
  {
   "cell_type": "code",
   "execution_count": null,
   "metadata": {},
   "outputs": [],
   "source": [
    "default_save_path = '/mnt/c/Users/Cionkito/Documents/Brainhack2022/Piriform_neurons/results'\n",
    "\n",
    "save_path_widg = ipywidgets.Textarea(value=default_save_path,\n",
    "                                     placeholder='Insert your path here',\n",
    "                                     description='',\n",
    "                                     disabled=False,\n",
    "                                     layout=ipywidgets.Layout(width='750px', height='30px'))\n",
    "\n",
    "show_figures = ipywidgets.ToggleButton(value=True,\n",
    "                    description='Show figures',\n",
    "                    disabled=False,\n",
    "                    indent=False)\n",
    "\n",
    "save_figures = ipywidgets.ToggleButton(value=False,\n",
    "                    description='Save figures',\n",
    "                    disabled=False,\n",
    "                    indent=False)\n",
    "\n",
    "save_labels = ipywidgets.ToggleButton(value=False,\n",
    "                    description='Save clusters',\n",
    "                    disabled=False,\n",
    "                    indent=False)"
   ]
  },
  {
   "cell_type": "markdown",
   "metadata": {},
   "source": [
    "### Saving results parameters\n",
    "Here you can specify if you wish to show and save the clustering figures (and labels) by pressing the respective butttons."
   ]
  },
  {
   "cell_type": "code",
   "execution_count": null,
   "metadata": {},
   "outputs": [],
   "source": [
    "ipywidgets.VBox([ipywidgets.Label('Where to save :'), save_path_widg, ipywidgets.HBox([show_figures, save_figures, save_labels])])"
   ]
  },
  {
   "cell_type": "markdown",
   "metadata": {},
   "source": [
    "### Clustering parameters\n",
    "This hierarchical agglomerative clustering requires one parameter:\n",
    "- The number of cluster : desired number of clusters (usually based on hypothesis)\n",
    "- The distance threshold : distance where to \"cut\" the herarchical tree structure\n",
    "\n",
    "Below you can chose which parameter you wish to specify:"
   ]
  },
  {
   "cell_type": "code",
   "execution_count": null,
   "metadata": {},
   "outputs": [],
   "source": [
    "cluster_choice = ipywidgets.Dropdown(options = [('Number of clusters', 1), ('Distance threshold', 2)], value = 2)\n",
    "n_cluster_dropdown = ipywidgets.BoundedIntText(value = 3, min = 2, max = 10)\n",
    "d_thresh_slider = ipywidgets.FloatSlider(value = 11.9, min = 0, max = 20, step = 0.1)\n",
    "\n",
    "ipywidgets.VBox([cluster_choice, n_cluster_dropdown, d_thresh_slider])"
   ]
  },
  {
   "cell_type": "markdown",
   "metadata": {},
   "source": [
    "### Interpretation of clustering results (below)\n",
    "- The clustering stability (in distance) shows the distance before two clusters are merged into one. In other words, the larger the distance, the more stable is the clustering for a specified  number of clusters _k_.\n",
    "- The number of clusters is only given if the clustering is parametrized through a specified distance.\n",
    "- The _Groups_ shows the number of samples (neurons) in each cluster."
   ]
  },
  {
   "cell_type": "code",
   "execution_count": null,
   "metadata": {},
   "outputs": [],
   "source": [
    "importlib.reload(cluster)\n",
    "\n",
    "# Conditions to for the specified clustering parameter\n",
    "param_n_clusters = n_cluster_dropdown.value\n",
    "param_d_thresh = None\n",
    "\n",
    "if cluster_choice.value == 2:\n",
    "    param_n_clusters = None\n",
    "    param_d_thresh = d_thresh_slider.value\n",
    "\n",
    "cluster_model, label_2_color = cluster.hierarchical_cstm(cluster_filtered_df, n_clusters = param_n_clusters, d_thresh = param_d_thresh,\n",
    "                                                         figsize = (30, 10), plot = show_figures.value)\n",
    "\n",
    "labels = cluster_model.labels_\n",
    "n_clusters = labels.max() + 1\n",
    "\n",
    "if save_figures.value:\n",
    "    plotting_tools.save_figure(op.join(save_path_widg.value,\n",
    "                                       f'hierarchical-tree-{n_clusters:02d}clusters.png'))\n",
    "\n",
    "centroids = cluster.get_centroids(cluster_model, cluster_filtered_df, col = label_2_color,\n",
    "                                  plot = show_figures.value)\n",
    "\n",
    "if save_figures.value:\n",
    "    plotting_tools.save_figure(op.join(save_path_widg.value,\n",
    "                                       f'hierarchical-centroids-{n_clusters:02d}clusters.png'))\n",
    "\n",
    "dist_to_centroid = cluster.get_centroid_distance(cluster_model, cluster_filtered_df, centroids)"
   ]
  },
  {
   "cell_type": "code",
   "execution_count": null,
   "metadata": {},
   "outputs": [],
   "source": [
    "label_save_df = pd.DataFrame(labels, index=cluster_filtered_df.index, columns=[f'labels-{n_clusters}k'])\n",
    "\n",
    "# Un-comment to save cluster labels (from 0 to n_cluster-1) in .csv file\n",
    "# where each row is a neuron with an ID and its corresponding label\n",
    "\n",
    "if save_labels.value:\n",
    "    label_save_df.to_csv(op.join(save_path_widg.value, f'neuron_clustering-{n_clusters:d}k.csv'))"
   ]
  },
  {
   "cell_type": "markdown",
   "metadata": {},
   "source": [
    "### List of neurons in each cluster :"
   ]
  },
  {
   "cell_type": "code",
   "execution_count": null,
   "metadata": {},
   "outputs": [],
   "source": [
    "for i in range(n_clusters):\n",
    "    print(f'cluster #{i + 1} :', cluster_filtered_df.loc[labels == i].index.tolist())"
   ]
  },
  {
   "cell_type": "markdown",
   "metadata": {},
   "source": [
    "### Features with the least in-cluster variability  (most in-cluster similarity) :"
   ]
  },
  {
   "cell_type": "code",
   "execution_count": null,
   "metadata": {},
   "outputs": [],
   "source": [
    "for i, cluster_features in enumerate(dist_to_centroid.feat_by_radius):\n",
    "    print(f'cluster #{i + 1:d}', cluster_features[:4])"
   ]
  },
  {
   "cell_type": "code",
   "execution_count": null,
   "metadata": {},
   "outputs": [],
   "source": []
  }
 ],
 "metadata": {
  "kernelspec": {
   "display_name": "Python 3 (ipykernel)",
   "language": "python",
   "name": "python3"
  },
  "language_info": {
   "codemirror_mode": {
    "name": "ipython",
    "version": 3
   },
   "file_extension": ".py",
   "mimetype": "text/x-python",
   "name": "python",
   "nbconvert_exporter": "python",
   "pygments_lexer": "ipython3",
   "version": "3.9.16"
  },
  "vscode": {
   "interpreter": {
    "hash": "c8069cfa4b33df0d49b8127483846bce8308e824566a650723cc5ea17697541d"
   }
  }
 },
 "nbformat": 4,
 "nbformat_minor": 2
}
