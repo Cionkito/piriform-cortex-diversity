{
 "cells": [
  {
   "cell_type": "code",
   "execution_count": null,
   "metadata": {},
   "outputs": [],
   "source": [
    "import pandas as pd\n",
    "import numpy as np\n",
    "\n",
    "import os.path as op\n",
    "import sys\n",
    "\n",
    "sys.path.append(op.abspath('../code'))\n",
    "\n",
    "import plotting_tools\n",
    "\n",
    "import importlib\n",
    "\n",
    "import data_loaders as dload\n",
    "import clusterize as cluster"
   ]
  },
  {
   "cell_type": "code",
   "execution_count": null,
   "metadata": {
    "scrolled": true
   },
   "outputs": [],
   "source": [
    "path_to_Piriform_neurons = '/mnt/c/Users/Cionkito/Documents/Brainhack2022/Piriform_neurons'\n",
    "path_to_xls = op.join(path_to_Piriform_neurons, 'data')\n",
    "my_matrix = dload.get_neuron_matrix(path_to_xls)\n",
    "my_matrix"
   ]
  },
  {
   "cell_type": "code",
   "execution_count": null,
   "metadata": {},
   "outputs": [],
   "source": [
    "is_na_idx = np.where(my_matrix.isna())[0]\n",
    "my_matrix.iloc[is_na_idx]"
   ]
  },
  {
   "cell_type": "code",
   "execution_count": null,
   "metadata": {},
   "outputs": [],
   "source": [
    "cluster_df = my_matrix.dropna(axis = 0).apply(cluster.normalize).dropna(axis = 1)\n",
    "\n",
    "feat_to_del = ['Filament BoundingBoxAA Length X', 'Filament BoundingBoxAA Length Y', 'Filament BoundingBoxAA Length Z']\n",
    "cluster_df = cluster_df.drop(columns = feat_to_del)\n",
    "\n",
    "print(cluster_df.shape)\n",
    "\n",
    "cluster_df"
   ]
  },
  {
   "cell_type": "code",
   "execution_count": null,
   "metadata": {},
   "outputs": [],
   "source": [
    "importlib.reload(cluster)\n",
    "\n",
    "show_figures = True\n",
    "save_figures = False\n",
    "\n",
    "cluster_model, label_2_color = cluster.hierarchical_cstm(cluster_df, d_thresh = 11.9, figsize = (30, 10), plot = show_figures)\n",
    "\n",
    "labels = cluster_model.labels_\n",
    "n_clusters = labels.max() + 1\n",
    "\n",
    "if save_figures:\n",
    "    plotting_tools.save_figure(op.join(path_to_Piriform_neurons, f'figures/hierarchical-tree-{n_clusters:02d}clusters.png'))\n",
    "\n",
    "centroids = cluster.get_centroids(cluster_model, cluster_df, col = label_2_color, plot = show_figures)\n",
    "\n",
    "if save_figures:\n",
    "    plotting_tools.save_figure(op.join(path_to_Piriform_neurons, f'figures/hierarchical-centroids-{n_clusters:02d}clusters.png'))\n",
    "\n",
    "dist_to_centroid = cluster.get_centroid_distance(cluster_model, cluster_df, centroids)"
   ]
  },
  {
   "cell_type": "code",
   "execution_count": null,
   "metadata": {},
   "outputs": [],
   "source": [
    "print('List of neurons in each cluster:')\n",
    "\n",
    "for i in range(n_clusters):\n",
    "    print(f'cluster #{i + 1} :', cluster_df.loc[labels == i].index.tolist())\n",
    "\n",
    "label_save_df = cluster_df.iloc[:, :1].copy()\n",
    "label_save_df[f'labels-{n_clusters}k'] = labels\n",
    "\n",
    "label_save_df = label_save_df.drop(columns = ['Filament BoundingBoxOO Length A'])\n",
    "\n",
    "# Un-comment to save cluster labels (from 0 to n_cluster-1) in .csv file\n",
    "# where each row is a neuron with an ID and its corresponding label\n",
    "\n",
    "#label_save_df.to_csv('/Users/AlexCionca/Documents/BrainHack-2023/Piriform_neurons/neuron_clustering.csv')"
   ]
  },
  {
   "cell_type": "code",
   "execution_count": null,
   "metadata": {},
   "outputs": [],
   "source": [
    "print('Features with the least in-cluster variability:')\n",
    "\n",
    "for i, cluster_features in enumerate(dist_to_centroid.feat_by_radius):\n",
    "    print(f'cluster #{i + 1:d}', cluster_features[:4])"
   ]
  }
 ],
 "metadata": {
  "kernelspec": {
   "display_name": "Python 3 (ipykernel)",
   "language": "python",
   "name": "python3"
  },
  "language_info": {
   "codemirror_mode": {
    "name": "ipython",
    "version": 3
   },
   "file_extension": ".py",
   "mimetype": "text/x-python",
   "name": "python",
   "nbconvert_exporter": "python",
   "pygments_lexer": "ipython3",
   "version": "3.9.16"
  },
  "vscode": {
   "interpreter": {
    "hash": "4f83dcd936fc1e0c32f81a77249ec48d912b4c0a2f1ebdd7d461d99453f32269"
   }
  }
 },
 "nbformat": 4,
 "nbformat_minor": 2
}
